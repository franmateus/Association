{
 "cells": [
  {
   "cell_type": "markdown",
   "id": "a1f896fd",
   "metadata": {},
   "source": [
    "# <font color='blue'>Data Science Academy</font>\n",
    "# <font color='blue'>Análise e Previsão de Séries Temporais com Inteligência Artificial</font>\n",
    "\n",
    "## <font color='blue'>Projeto 1 - Parte 2</font>\n",
    "### <font color='blue'>Previsão de Vendas com Diferentes Janelas de Previsão</font>\n",
    "### <font color='blue'>Previsão Para Janela de 12 Meses</font>"
   ]
  },
  {
   "cell_type": "markdown",
   "id": "84c25e1b",
   "metadata": {},
   "source": [
    "![DSA](imagens/P1.png)"
   ]
  },
  {
   "cell_type": "markdown",
   "id": "2e4caa7c",
   "metadata": {},
   "source": [
    "## Instalando e Carregando os Pacotes"
   ]
  },
  {
   "cell_type": "code",
   "execution_count": 1,
   "id": "380d1096",
   "metadata": {},
   "outputs": [
    {
     "name": "stdout",
     "output_type": "stream",
     "text": [
      "Versão da Linguagem Python Usada Neste Jupyter Notebook: 3.9.13\n"
     ]
    }
   ],
   "source": [
    "# Versão da Linguagem Python\n",
    "from platform import python_version\n",
    "print('Versão da Linguagem Python Usada Neste Jupyter Notebook:', python_version())"
   ]
  },
  {
   "cell_type": "code",
   "execution_count": 2,
   "id": "74367d80",
   "metadata": {},
   "outputs": [],
   "source": [
    "# Para atualizar um pacote, execute o comando abaixo no terminal ou prompt de comando:\n",
    "# pip install -U nome_pacote\n",
    "\n",
    "# Para instalar a versão exata de um pacote, execute o comando abaixo no terminal ou prompt de comando:\n",
    "# !pip install nome_pacote==versão_desejada\n",
    "\n",
    "# Depois de instalar ou atualizar o pacote, reinicie o jupyter notebook.\n",
    "\n",
    "# Instala o pacote watermark. \n",
    "# Esse pacote é usado para gravar as versões de outros pacotes usados neste jupyter notebook.\n",
    "# !pip install -q -U watermark"
   ]
  },
  {
   "cell_type": "code",
   "execution_count": 3,
   "id": "c018c13c",
   "metadata": {},
   "outputs": [],
   "source": [
    "# https://www.tensorflow.org/\n",
    "#!pip install -q tensorflow"
   ]
  },
  {
   "cell_type": "code",
   "execution_count": 4,
   "id": "94b1c10f",
   "metadata": {},
   "outputs": [],
   "source": [
    "# https://keras.io/\n",
    "#!pip install -q keras"
   ]
  },
  {
   "cell_type": "code",
   "execution_count": 5,
   "id": "76045671",
   "metadata": {},
   "outputs": [
    {
     "name": "stdout",
     "output_type": "stream",
     "text": [
      "env: TF_CPP_MIN_LOG_LEVEL=3\n"
     ]
    }
   ],
   "source": [
    "# Define variável de ambiente para slienciar as mensagens do TF\n",
    "%env TF_CPP_MIN_LOG_LEVEL=3"
   ]
  },
  {
   "cell_type": "code",
   "execution_count": 6,
   "id": "4b0c5866",
   "metadata": {},
   "outputs": [],
   "source": [
    "# Imports\n",
    "import sklearn\n",
    "import statsmodels\n",
    "import tensorflow as tf\n",
    "import keras\n",
    "import pandas as pd\n",
    "import numpy as np\n",
    "import matplotlib.pyplot as plt\n",
    "import matplotlib as m\n",
    "import seaborn as sns\n",
    "from keras.preprocessing.sequence import TimeseriesGenerator\n",
    "from keras.models import Sequential\n",
    "from keras.layers import Dense, LSTM\n",
    "from sklearn.preprocessing import MinMaxScaler\n",
    "from sklearn.metrics import mean_squared_error\n",
    "from math import sqrt\n",
    "import warnings\n",
    "warnings.filterwarnings('ignore')"
   ]
  },
  {
   "cell_type": "code",
   "execution_count": 7,
   "id": "7fe849f1",
   "metadata": {},
   "outputs": [],
   "source": [
    "# Formatando as saídas dos gráficos\n",
    "plt.style.use('fivethirtyeight')\n",
    "pd.set_option('display.expand_frame_repr', False)\n",
    "pd.set_option('display.max_columns', 500)\n",
    "pd.set_option('display.width', 1000)\n",
    "m.rcParams['axes.labelsize'] = 14\n",
    "m.rcParams['xtick.labelsize'] = 12\n",
    "m.rcParams['ytick.labelsize'] = 12\n",
    "m.rcParams['text.color'] = 'k'"
   ]
  },
  {
   "cell_type": "code",
   "execution_count": 8,
   "id": "88936c35",
   "metadata": {},
   "outputs": [
    {
     "name": "stdout",
     "output_type": "stream",
     "text": [
      "Author: Data Science Academy\n",
      "\n",
      "pandas     : 1.5.3\n",
      "statsmodels: 0.13.2\n",
      "matplotlib : 3.5.2\n",
      "tensorflow : 2.11.0\n",
      "numpy      : 1.22.2\n",
      "seaborn    : 0.11.2\n",
      "keras      : 2.11.0\n",
      "sklearn    : 1.0.2\n",
      "\n"
     ]
    }
   ],
   "source": [
    "# Versões dos pacotes usados neste jupyter notebook\n",
    "%reload_ext watermark\n",
    "%watermark -a \"Data Science Academy\" --iversions"
   ]
  },
  {
   "cell_type": "markdown",
   "id": "d91b0c06",
   "metadata": {},
   "source": [
    "## Carregando os Dados"
   ]
  },
  {
   "cell_type": "code",
   "execution_count": 9,
   "id": "82992165",
   "metadata": {},
   "outputs": [],
   "source": [
    "# Carrega o dataset\n",
    "df = pd.read_csv('dados/dataset.csv')"
   ]
  },
  {
   "cell_type": "code",
   "execution_count": 10,
   "id": "66e21501",
   "metadata": {},
   "outputs": [
    {
     "data": {
      "text/html": [
       "<div>\n",
       "<style scoped>\n",
       "    .dataframe tbody tr th:only-of-type {\n",
       "        vertical-align: middle;\n",
       "    }\n",
       "\n",
       "    .dataframe tbody tr th {\n",
       "        vertical-align: top;\n",
       "    }\n",
       "\n",
       "    .dataframe thead th {\n",
       "        text-align: right;\n",
       "    }\n",
       "</style>\n",
       "<table border=\"1\" class=\"dataframe\">\n",
       "  <thead>\n",
       "    <tr style=\"text-align: right;\">\n",
       "      <th></th>\n",
       "      <th>Mes</th>\n",
       "      <th>Vendas</th>\n",
       "    </tr>\n",
       "  </thead>\n",
       "  <tbody>\n",
       "    <tr>\n",
       "      <th>0</th>\n",
       "      <td>01-01-2016</td>\n",
       "      <td>14057</td>\n",
       "    </tr>\n",
       "    <tr>\n",
       "      <th>1</th>\n",
       "      <td>02-01-2016</td>\n",
       "      <td>15475</td>\n",
       "    </tr>\n",
       "    <tr>\n",
       "      <th>2</th>\n",
       "      <td>03-01-2016</td>\n",
       "      <td>14524</td>\n",
       "    </tr>\n",
       "    <tr>\n",
       "      <th>3</th>\n",
       "      <td>04-01-2016</td>\n",
       "      <td>15661</td>\n",
       "    </tr>\n",
       "    <tr>\n",
       "      <th>4</th>\n",
       "      <td>05-01-2016</td>\n",
       "      <td>12355</td>\n",
       "    </tr>\n",
       "  </tbody>\n",
       "</table>\n",
       "</div>"
      ],
      "text/plain": [
       "          Mes  Vendas\n",
       "0  01-01-2016   14057\n",
       "1  02-01-2016   15475\n",
       "2  03-01-2016   14524\n",
       "3  04-01-2016   15661\n",
       "4  05-01-2016   12355"
      ]
     },
     "execution_count": 10,
     "metadata": {},
     "output_type": "execute_result"
    }
   ],
   "source": [
    "df.head()"
   ]
  },
  {
   "cell_type": "code",
   "execution_count": 11,
   "id": "1d3353c9",
   "metadata": {},
   "outputs": [
    {
     "data": {
      "text/html": [
       "<div>\n",
       "<style scoped>\n",
       "    .dataframe tbody tr th:only-of-type {\n",
       "        vertical-align: middle;\n",
       "    }\n",
       "\n",
       "    .dataframe tbody tr th {\n",
       "        vertical-align: top;\n",
       "    }\n",
       "\n",
       "    .dataframe thead th {\n",
       "        text-align: right;\n",
       "    }\n",
       "</style>\n",
       "<table border=\"1\" class=\"dataframe\">\n",
       "  <thead>\n",
       "    <tr style=\"text-align: right;\">\n",
       "      <th></th>\n",
       "      <th>Mes</th>\n",
       "      <th>Vendas</th>\n",
       "    </tr>\n",
       "  </thead>\n",
       "  <tbody>\n",
       "    <tr>\n",
       "      <th>70</th>\n",
       "      <td>11-01-2021</td>\n",
       "      <td>14568</td>\n",
       "    </tr>\n",
       "    <tr>\n",
       "      <th>71</th>\n",
       "      <td>12-01-2021</td>\n",
       "      <td>15661</td>\n",
       "    </tr>\n",
       "    <tr>\n",
       "      <th>72</th>\n",
       "      <td>01-01-2022</td>\n",
       "      <td>19108</td>\n",
       "    </tr>\n",
       "    <tr>\n",
       "      <th>73</th>\n",
       "      <td>02-01-2022</td>\n",
       "      <td>19202</td>\n",
       "    </tr>\n",
       "    <tr>\n",
       "      <th>74</th>\n",
       "      <td>03-01-2022</td>\n",
       "      <td>13623</td>\n",
       "    </tr>\n",
       "  </tbody>\n",
       "</table>\n",
       "</div>"
      ],
      "text/plain": [
       "           Mes  Vendas\n",
       "70  11-01-2021   14568\n",
       "71  12-01-2021   15661\n",
       "72  01-01-2022   19108\n",
       "73  02-01-2022   19202\n",
       "74  03-01-2022   13623"
      ]
     },
     "execution_count": 11,
     "metadata": {},
     "output_type": "execute_result"
    }
   ],
   "source": [
    "df.tail()"
   ]
  },
  {
   "cell_type": "code",
   "execution_count": 12,
   "id": "10413581",
   "metadata": {},
   "outputs": [
    {
     "data": {
      "text/plain": [
       "<AxesSubplot:>"
      ]
     },
     "execution_count": 12,
     "metadata": {},
     "output_type": "execute_result"
    },
    {
     "data": {
      "image/png": "[encoded data removed]",
      "text/plain": [
       "<Figure size 1600x800 with 1 Axes>"
      ]
     },
     "metadata": {},
     "output_type": "display_data"
    }
   ],
   "source": [
    "df.plot(figsize = (16,8))"
   ]
  },
  {
   "cell_type": "code",
   "execution_count": 13,
   "id": "dbfe0bcf",
   "metadata": {},
   "outputs": [
    {
     "data": {
      "text/html": [
       "<div>\n",
       "<style scoped>\n",
       "    .dataframe tbody tr th:only-of-type {\n",
       "        vertical-align: middle;\n",
       "    }\n",
       "\n",
       "    .dataframe tbody tr th {\n",
       "        vertical-align: top;\n",
       "    }\n",
       "\n",
       "    .dataframe thead th {\n",
       "        text-align: right;\n",
       "    }\n",
       "</style>\n",
       "<table border=\"1\" class=\"dataframe\">\n",
       "  <thead>\n",
       "    <tr style=\"text-align: right;\">\n",
       "      <th></th>\n",
       "      <th>Mes</th>\n",
       "      <th>Vendas</th>\n",
       "    </tr>\n",
       "  </thead>\n",
       "  <tbody>\n",
       "    <tr>\n",
       "      <th>0</th>\n",
       "      <td>01-01-2016</td>\n",
       "      <td>14057</td>\n",
       "    </tr>\n",
       "    <tr>\n",
       "      <th>1</th>\n",
       "      <td>02-01-2016</td>\n",
       "      <td>15475</td>\n",
       "    </tr>\n",
       "    <tr>\n",
       "      <th>2</th>\n",
       "      <td>03-01-2016</td>\n",
       "      <td>14524</td>\n",
       "    </tr>\n",
       "    <tr>\n",
       "      <th>3</th>\n",
       "      <td>04-01-2016</td>\n",
       "      <td>15661</td>\n",
       "    </tr>\n",
       "    <tr>\n",
       "      <th>4</th>\n",
       "      <td>05-01-2016</td>\n",
       "      <td>12355</td>\n",
       "    </tr>\n",
       "    <tr>\n",
       "      <th>5</th>\n",
       "      <td>06-01-2016</td>\n",
       "      <td>9033</td>\n",
       "    </tr>\n",
       "    <tr>\n",
       "      <th>6</th>\n",
       "      <td>07-01-2016</td>\n",
       "      <td>13934</td>\n",
       "    </tr>\n",
       "    <tr>\n",
       "      <th>7</th>\n",
       "      <td>08-01-2016</td>\n",
       "      <td>13027</td>\n",
       "    </tr>\n",
       "    <tr>\n",
       "      <th>8</th>\n",
       "      <td>09-01-2016</td>\n",
       "      <td>16746</td>\n",
       "    </tr>\n",
       "    <tr>\n",
       "      <th>9</th>\n",
       "      <td>10-01-2016</td>\n",
       "      <td>14611</td>\n",
       "    </tr>\n",
       "    <tr>\n",
       "      <th>10</th>\n",
       "      <td>11-01-2016</td>\n",
       "      <td>14594</td>\n",
       "    </tr>\n",
       "    <tr>\n",
       "      <th>11</th>\n",
       "      <td>12-01-2016</td>\n",
       "      <td>14538</td>\n",
       "    </tr>\n",
       "  </tbody>\n",
       "</table>\n",
       "</div>"
      ],
      "text/plain": [
       "           Mes  Vendas\n",
       "0   01-01-2016   14057\n",
       "1   02-01-2016   15475\n",
       "2   03-01-2016   14524\n",
       "3   04-01-2016   15661\n",
       "4   05-01-2016   12355\n",
       "5   06-01-2016    9033\n",
       "6   07-01-2016   13934\n",
       "7   08-01-2016   13027\n",
       "8   09-01-2016   16746\n",
       "9   10-01-2016   14611\n",
       "10  11-01-2016   14594\n",
       "11  12-01-2016   14538"
      ]
     },
     "execution_count": 13,
     "metadata": {},
     "output_type": "execute_result"
    }
   ],
   "source": [
    "df.head(12)"
   ]
  },
  {
   "cell_type": "code",
   "execution_count": 14,
   "id": "d489ba0f",
   "metadata": {},
   "outputs": [
    {
     "data": {
      "text/plain": [
       "15189.32"
      ]
     },
     "execution_count": 14,
     "metadata": {},
     "output_type": "execute_result"
    }
   ],
   "source": [
    "# Média\n",
    "df['Vendas'].mean()"
   ]
  },
  {
   "cell_type": "code",
   "execution_count": 15,
   "id": "76292c5f",
   "metadata": {},
   "outputs": [
    {
     "data": {
      "text/html": [
       "<div>\n",
       "<style scoped>\n",
       "    .dataframe tbody tr th:only-of-type {\n",
       "        vertical-align: middle;\n",
       "    }\n",
       "\n",
       "    .dataframe tbody tr th {\n",
       "        vertical-align: top;\n",
       "    }\n",
       "\n",
       "    .dataframe thead th {\n",
       "        text-align: right;\n",
       "    }\n",
       "</style>\n",
       "<table border=\"1\" class=\"dataframe\">\n",
       "  <thead>\n",
       "    <tr style=\"text-align: right;\">\n",
       "      <th></th>\n",
       "      <th>Vendas</th>\n",
       "    </tr>\n",
       "  </thead>\n",
       "  <tbody>\n",
       "    <tr>\n",
       "      <th>count</th>\n",
       "      <td>75.000000</td>\n",
       "    </tr>\n",
       "    <tr>\n",
       "      <th>mean</th>\n",
       "      <td>15189.320000</td>\n",
       "    </tr>\n",
       "    <tr>\n",
       "      <th>std</th>\n",
       "      <td>4938.414767</td>\n",
       "    </tr>\n",
       "    <tr>\n",
       "      <th>min</th>\n",
       "      <td>0.000000</td>\n",
       "    </tr>\n",
       "    <tr>\n",
       "      <th>25%</th>\n",
       "      <td>12805.500000</td>\n",
       "    </tr>\n",
       "    <tr>\n",
       "      <th>50%</th>\n",
       "      <td>15475.000000</td>\n",
       "    </tr>\n",
       "    <tr>\n",
       "      <th>75%</th>\n",
       "      <td>18592.000000</td>\n",
       "    </tr>\n",
       "    <tr>\n",
       "      <th>max</th>\n",
       "      <td>24589.000000</td>\n",
       "    </tr>\n",
       "  </tbody>\n",
       "</table>\n",
       "</div>"
      ],
      "text/plain": [
       "             Vendas\n",
       "count     75.000000\n",
       "mean   15189.320000\n",
       "std     4938.414767\n",
       "min        0.000000\n",
       "25%    12805.500000\n",
       "50%    15475.000000\n",
       "75%    18592.000000\n",
       "max    24589.000000"
      ]
     },
     "execution_count": 15,
     "metadata": {},
     "output_type": "execute_result"
    }
   ],
   "source": [
    "df.describe()"
   ]
  },
  {
   "cell_type": "markdown",
   "id": "932e8d3e",
   "metadata": {},
   "source": [
    "Temos valores discrepantes (outliers). Vamos tratá-los usando percentil.\n",
    "\n",
    "## Tratamento de Outliers"
   ]
  },
  {
   "cell_type": "code",
   "execution_count": 16,
   "id": "e016dc3f",
   "metadata": {},
   "outputs": [],
   "source": [
    "# Extrai o percentil 10\n",
    "min_threshold = df['Vendas'].quantile(0.10)"
   ]
  },
  {
   "cell_type": "code",
   "execution_count": 17,
   "id": "ebdb8229",
   "metadata": {},
   "outputs": [
    {
     "data": {
      "text/plain": [
       "9425.2"
      ]
     },
     "execution_count": 17,
     "metadata": {},
     "output_type": "execute_result"
    }
   ],
   "source": [
    "min_threshold"
   ]
  },
  {
   "cell_type": "code",
   "execution_count": 18,
   "id": "550aae69",
   "metadata": {},
   "outputs": [],
   "source": [
    "# Valores abaixo do threshold (limite)\n",
    "amostra = df[df['Vendas'] < min_threshold]"
   ]
  },
  {
   "cell_type": "code",
   "execution_count": 19,
   "id": "cb1c0836",
   "metadata": {},
   "outputs": [
    {
     "data": {
      "text/html": [
       "<div>\n",
       "<style scoped>\n",
       "    .dataframe tbody tr th:only-of-type {\n",
       "        vertical-align: middle;\n",
       "    }\n",
       "\n",
       "    .dataframe tbody tr th {\n",
       "        vertical-align: top;\n",
       "    }\n",
       "\n",
       "    .dataframe thead th {\n",
       "        text-align: right;\n",
       "    }\n",
       "</style>\n",
       "<table border=\"1\" class=\"dataframe\">\n",
       "  <thead>\n",
       "    <tr style=\"text-align: right;\">\n",
       "      <th></th>\n",
       "      <th>Mes</th>\n",
       "      <th>Vendas</th>\n",
       "    </tr>\n",
       "  </thead>\n",
       "  <tbody>\n",
       "    <tr>\n",
       "      <th>5</th>\n",
       "      <td>06-01-2016</td>\n",
       "      <td>9033</td>\n",
       "    </tr>\n",
       "    <tr>\n",
       "      <th>50</th>\n",
       "      <td>03-01-2020</td>\n",
       "      <td>8575</td>\n",
       "    </tr>\n",
       "    <tr>\n",
       "      <th>51</th>\n",
       "      <td>04-01-2020</td>\n",
       "      <td>0</td>\n",
       "    </tr>\n",
       "    <tr>\n",
       "      <th>52</th>\n",
       "      <td>05-01-2020</td>\n",
       "      <td>597</td>\n",
       "    </tr>\n",
       "    <tr>\n",
       "      <th>53</th>\n",
       "      <td>06-01-2020</td>\n",
       "      <td>4013</td>\n",
       "    </tr>\n",
       "    <tr>\n",
       "      <th>64</th>\n",
       "      <td>05-01-2021</td>\n",
       "      <td>7005</td>\n",
       "    </tr>\n",
       "    <tr>\n",
       "      <th>68</th>\n",
       "      <td>09-01-2021</td>\n",
       "      <td>2520</td>\n",
       "    </tr>\n",
       "    <tr>\n",
       "      <th>69</th>\n",
       "      <td>10-01-2021</td>\n",
       "      <td>9180</td>\n",
       "    </tr>\n",
       "  </tbody>\n",
       "</table>\n",
       "</div>"
      ],
      "text/plain": [
       "           Mes  Vendas\n",
       "5   06-01-2016    9033\n",
       "50  03-01-2020    8575\n",
       "51  04-01-2020       0\n",
       "52  05-01-2020     597\n",
       "53  06-01-2020    4013\n",
       "64  05-01-2021    7005\n",
       "68  09-01-2021    2520\n",
       "69  10-01-2021    9180"
      ]
     },
     "execution_count": 19,
     "metadata": {},
     "output_type": "execute_result"
    }
   ],
   "source": [
    "amostra"
   ]
  },
  {
   "cell_type": "code",
   "execution_count": 20,
   "id": "575f3f77",
   "metadata": {},
   "outputs": [
    {
     "data": {
      "text/plain": [
       "Mes       75\n",
       "Vendas    75\n",
       "dtype: int64"
      ]
     },
     "execution_count": 20,
     "metadata": {},
     "output_type": "execute_result"
    }
   ],
   "source": [
    "df.count()"
   ]
  },
  {
   "cell_type": "code",
   "execution_count": 21,
   "id": "1d8dec25",
   "metadata": {},
   "outputs": [],
   "source": [
    "# Qualquer valor abaixo do threshold será substituído pela média (interpolação)\n",
    "for i in range(75):\n",
    "    if df.loc[i , 'Vendas'] < 9425.2:\n",
    "        df.iat[i,1] = 15190"
   ]
  },
  {
   "cell_type": "markdown",
   "id": "7fe66739",
   "metadata": {},
   "source": [
    "No pandas, iat é um método que permite acessar um único valor em um DataFrame ou Series, com base em sua posição numérica. Ele é semelhante ao método iloc, mas é otimizado para acesso a valores individuais, tornando-o mais rápido do que o iloc em casos em que é necessário acessar um único valor.\n",
    "\n",
    "O iat tem a sintaxe iat[i, j], onde i e j são as posições numéricas do índice e da coluna, respectivamente. \n",
    "\n",
    "O iat pode ser útil em situações em que é necessário acessar um único valor em um DataFrame ou Series grande, porque ele é muito mais rápido do que a indexação normal usando chaves ou o método loc, que são projetados para acessar múltiplos valores simultaneamente. No entanto, como o iat acessa valores com base em sua posição numérica, é importante garantir que a ordem dos índices e colunas seja consistente em todo o DataFrame ou Series, para que o valor correto seja acessado."
   ]
  },
  {
   "cell_type": "code",
   "execution_count": 22,
   "id": "11f26846",
   "metadata": {},
   "outputs": [
    {
     "data": {
      "text/html": [
       "<div>\n",
       "<style scoped>\n",
       "    .dataframe tbody tr th:only-of-type {\n",
       "        vertical-align: middle;\n",
       "    }\n",
       "\n",
       "    .dataframe tbody tr th {\n",
       "        vertical-align: top;\n",
       "    }\n",
       "\n",
       "    .dataframe thead th {\n",
       "        text-align: right;\n",
       "    }\n",
       "</style>\n",
       "<table border=\"1\" class=\"dataframe\">\n",
       "  <thead>\n",
       "    <tr style=\"text-align: right;\">\n",
       "      <th></th>\n",
       "      <th>Mes</th>\n",
       "      <th>Vendas</th>\n",
       "    </tr>\n",
       "  </thead>\n",
       "  <tbody>\n",
       "    <tr>\n",
       "      <th>0</th>\n",
       "      <td>01-01-2016</td>\n",
       "      <td>14057</td>\n",
       "    </tr>\n",
       "    <tr>\n",
       "      <th>1</th>\n",
       "      <td>02-01-2016</td>\n",
       "      <td>15475</td>\n",
       "    </tr>\n",
       "    <tr>\n",
       "      <th>2</th>\n",
       "      <td>03-01-2016</td>\n",
       "      <td>14524</td>\n",
       "    </tr>\n",
       "    <tr>\n",
       "      <th>3</th>\n",
       "      <td>04-01-2016</td>\n",
       "      <td>15661</td>\n",
       "    </tr>\n",
       "    <tr>\n",
       "      <th>4</th>\n",
       "      <td>05-01-2016</td>\n",
       "      <td>12355</td>\n",
       "    </tr>\n",
       "    <tr>\n",
       "      <th>5</th>\n",
       "      <td>06-01-2016</td>\n",
       "      <td>15190</td>\n",
       "    </tr>\n",
       "    <tr>\n",
       "      <th>6</th>\n",
       "      <td>07-01-2016</td>\n",
       "      <td>13934</td>\n",
       "    </tr>\n",
       "    <tr>\n",
       "      <th>7</th>\n",
       "      <td>08-01-2016</td>\n",
       "      <td>13027</td>\n",
       "    </tr>\n",
       "    <tr>\n",
       "      <th>8</th>\n",
       "      <td>09-01-2016</td>\n",
       "      <td>16746</td>\n",
       "    </tr>\n",
       "    <tr>\n",
       "      <th>9</th>\n",
       "      <td>10-01-2016</td>\n",
       "      <td>14611</td>\n",
       "    </tr>\n",
       "    <tr>\n",
       "      <th>10</th>\n",
       "      <td>11-01-2016</td>\n",
       "      <td>14594</td>\n",
       "    </tr>\n",
       "    <tr>\n",
       "      <th>11</th>\n",
       "      <td>12-01-2016</td>\n",
       "      <td>14538</td>\n",
       "    </tr>\n",
       "  </tbody>\n",
       "</table>\n",
       "</div>"
      ],
      "text/plain": [
       "           Mes  Vendas\n",
       "0   01-01-2016   14057\n",
       "1   02-01-2016   15475\n",
       "2   03-01-2016   14524\n",
       "3   04-01-2016   15661\n",
       "4   05-01-2016   12355\n",
       "5   06-01-2016   15190\n",
       "6   07-01-2016   13934\n",
       "7   08-01-2016   13027\n",
       "8   09-01-2016   16746\n",
       "9   10-01-2016   14611\n",
       "10  11-01-2016   14594\n",
       "11  12-01-2016   14538"
      ]
     },
     "execution_count": 22,
     "metadata": {},
     "output_type": "execute_result"
    }
   ],
   "source": [
    "df.head(12)"
   ]
  },
  {
   "cell_type": "code",
   "execution_count": 23,
   "id": "746afe1c",
   "metadata": {},
   "outputs": [
    {
     "data": {
      "text/html": [
       "<div>\n",
       "<style scoped>\n",
       "    .dataframe tbody tr th:only-of-type {\n",
       "        vertical-align: middle;\n",
       "    }\n",
       "\n",
       "    .dataframe tbody tr th {\n",
       "        vertical-align: top;\n",
       "    }\n",
       "\n",
       "    .dataframe thead th {\n",
       "        text-align: right;\n",
       "    }\n",
       "</style>\n",
       "<table border=\"1\" class=\"dataframe\">\n",
       "  <thead>\n",
       "    <tr style=\"text-align: right;\">\n",
       "      <th></th>\n",
       "      <th>Vendas</th>\n",
       "    </tr>\n",
       "  </thead>\n",
       "  <tbody>\n",
       "    <tr>\n",
       "      <th>count</th>\n",
       "      <td>75.000000</td>\n",
       "    </tr>\n",
       "    <tr>\n",
       "      <th>mean</th>\n",
       "      <td>16263.946667</td>\n",
       "    </tr>\n",
       "    <tr>\n",
       "      <th>std</th>\n",
       "      <td>3296.759957</td>\n",
       "    </tr>\n",
       "    <tr>\n",
       "      <th>min</th>\n",
       "      <td>9793.000000</td>\n",
       "    </tr>\n",
       "    <tr>\n",
       "      <th>25%</th>\n",
       "      <td>14137.500000</td>\n",
       "    </tr>\n",
       "    <tr>\n",
       "      <th>50%</th>\n",
       "      <td>15475.000000</td>\n",
       "    </tr>\n",
       "    <tr>\n",
       "      <th>75%</th>\n",
       "      <td>18592.000000</td>\n",
       "    </tr>\n",
       "    <tr>\n",
       "      <th>max</th>\n",
       "      <td>24589.000000</td>\n",
       "    </tr>\n",
       "  </tbody>\n",
       "</table>\n",
       "</div>"
      ],
      "text/plain": [
       "             Vendas\n",
       "count     75.000000\n",
       "mean   16263.946667\n",
       "std     3296.759957\n",
       "min     9793.000000\n",
       "25%    14137.500000\n",
       "50%    15475.000000\n",
       "75%    18592.000000\n",
       "max    24589.000000"
      ]
     },
     "execution_count": 23,
     "metadata": {},
     "output_type": "execute_result"
    }
   ],
   "source": [
    "df.describe()"
   ]
  },
  {
   "cell_type": "code",
   "execution_count": 24,
   "id": "86a92b17",
   "metadata": {},
   "outputs": [],
   "source": [
    "# Converte a coluna Mes para o tipo datetime\n",
    "df['Mes'] = pd.to_datetime(df['Mes'])"
   ]
  },
  {
   "cell_type": "code",
   "execution_count": 25,
   "id": "24e366ff",
   "metadata": {},
   "outputs": [],
   "source": [
    "# Define o mês como índice\n",
    "df.set_index('Mes', inplace = True)"
   ]
  },
  {
   "cell_type": "code",
   "execution_count": 26,
   "id": "573a1c37",
   "metadata": {},
   "outputs": [
    {
     "data": {
      "text/html": [
       "<div>\n",
       "<style scoped>\n",
       "    .dataframe tbody tr th:only-of-type {\n",
       "        vertical-align: middle;\n",
       "    }\n",
       "\n",
       "    .dataframe tbody tr th {\n",
       "        vertical-align: top;\n",
       "    }\n",
       "\n",
       "    .dataframe thead th {\n",
       "        text-align: right;\n",
       "    }\n",
       "</style>\n",
       "<table border=\"1\" class=\"dataframe\">\n",
       "  <thead>\n",
       "    <tr style=\"text-align: right;\">\n",
       "      <th></th>\n",
       "      <th>Vendas</th>\n",
       "    </tr>\n",
       "    <tr>\n",
       "      <th>Mes</th>\n",
       "      <th></th>\n",
       "    </tr>\n",
       "  </thead>\n",
       "  <tbody>\n",
       "    <tr>\n",
       "      <th>2016-01-01</th>\n",
       "      <td>14057</td>\n",
       "    </tr>\n",
       "    <tr>\n",
       "      <th>2016-02-01</th>\n",
       "      <td>15475</td>\n",
       "    </tr>\n",
       "    <tr>\n",
       "      <th>2016-03-01</th>\n",
       "      <td>14524</td>\n",
       "    </tr>\n",
       "    <tr>\n",
       "      <th>2016-04-01</th>\n",
       "      <td>15661</td>\n",
       "    </tr>\n",
       "    <tr>\n",
       "      <th>2016-05-01</th>\n",
       "      <td>12355</td>\n",
       "    </tr>\n",
       "    <tr>\n",
       "      <th>2016-06-01</th>\n",
       "      <td>15190</td>\n",
       "    </tr>\n",
       "    <tr>\n",
       "      <th>2016-07-01</th>\n",
       "      <td>13934</td>\n",
       "    </tr>\n",
       "    <tr>\n",
       "      <th>2016-08-01</th>\n",
       "      <td>13027</td>\n",
       "    </tr>\n",
       "    <tr>\n",
       "      <th>2016-09-01</th>\n",
       "      <td>16746</td>\n",
       "    </tr>\n",
       "    <tr>\n",
       "      <th>2016-10-01</th>\n",
       "      <td>14611</td>\n",
       "    </tr>\n",
       "    <tr>\n",
       "      <th>2016-11-01</th>\n",
       "      <td>14594</td>\n",
       "    </tr>\n",
       "    <tr>\n",
       "      <th>2016-12-01</th>\n",
       "      <td>14538</td>\n",
       "    </tr>\n",
       "  </tbody>\n",
       "</table>\n",
       "</div>"
      ],
      "text/plain": [
       "            Vendas\n",
       "Mes               \n",
       "2016-01-01   14057\n",
       "2016-02-01   15475\n",
       "2016-03-01   14524\n",
       "2016-04-01   15661\n",
       "2016-05-01   12355\n",
       "2016-06-01   15190\n",
       "2016-07-01   13934\n",
       "2016-08-01   13027\n",
       "2016-09-01   16746\n",
       "2016-10-01   14611\n",
       "2016-11-01   14594\n",
       "2016-12-01   14538"
      ]
     },
     "execution_count": 26,
     "metadata": {},
     "output_type": "execute_result"
    }
   ],
   "source": [
    "df.head(12)"
   ]
  },
  {
   "cell_type": "code",
   "execution_count": 27,
   "id": "952f310b",
   "metadata": {},
   "outputs": [
    {
     "data": {
      "text/plain": [
       "<AxesSubplot:xlabel='Mes'>"
      ]
     },
     "execution_count": 27,
     "metadata": {},
     "output_type": "execute_result"
    },
    {
     "data": {
      "image/png": "[encoded data removed]",
      "text/plain": [
       "<Figure size 1600x800 with 1 Axes>"
      ]
     },
     "metadata": {},
     "output_type": "display_data"
    }
   ],
   "source": [
    "# Plot\n",
    "df.plot(figsize = (16,8))"
   ]
  },
  {
   "cell_type": "markdown",
   "id": "bb1d081b",
   "metadata": {},
   "source": [
    "## Divisão em Treino e Teste e Padronização"
   ]
  },
  {
   "cell_type": "code",
   "execution_count": 28,
   "id": "c7942000",
   "metadata": {},
   "outputs": [
    {
     "data": {
      "text/plain": [
       "75"
      ]
     },
     "execution_count": 28,
     "metadata": {},
     "output_type": "execute_result"
    }
   ],
   "source": [
    "len(df)"
   ]
  },
  {
   "cell_type": "code",
   "execution_count": 29,
   "id": "682a29e7",
   "metadata": {},
   "outputs": [],
   "source": [
    "# Divisão em treino e teste\n",
    "dados_treino = df.iloc[:63]\n",
    "dados_teste = df.iloc[63:]"
   ]
  },
  {
   "cell_type": "code",
   "execution_count": 30,
   "id": "154530b3",
   "metadata": {},
   "outputs": [],
   "source": [
    "# Cria o padronizador\n",
    "scaler = MinMaxScaler()"
   ]
  },
  {
   "cell_type": "code",
   "execution_count": 31,
   "id": "f73e7a19",
   "metadata": {},
   "outputs": [
    {
     "data": {
      "text/plain": [
       "MinMaxScaler()"
      ]
     },
     "execution_count": 31,
     "metadata": {},
     "output_type": "execute_result"
    }
   ],
   "source": [
    "# Fit com dados de treino\n",
    "scaler.fit(dados_treino)"
   ]
  },
  {
   "cell_type": "code",
   "execution_count": 32,
   "id": "c1c338f4",
   "metadata": {},
   "outputs": [],
   "source": [
    "# Transform em treino e teste\n",
    "scaled_treino = scaler.transform(dados_treino)\n",
    "scaled_teste = scaler.transform(dados_teste)"
   ]
  },
  {
   "cell_type": "code",
   "execution_count": 33,
   "id": "aec821d3",
   "metadata": {},
   "outputs": [
    {
     "data": {
      "text/plain": [
       "array([[0.288186  ],\n",
       "       [0.38402271],\n",
       "       [0.31974858],\n",
       "       [0.39659367],\n",
       "       [0.17315491],\n",
       "       [0.36476075],\n",
       "       [0.27987294],\n",
       "       [0.21857259],\n",
       "       [0.4699243 ],\n",
       "       [0.32562855]])"
      ]
     },
     "execution_count": 33,
     "metadata": {},
     "output_type": "execute_result"
    }
   ],
   "source": [
    "scaled_treino[:10]"
   ]
  },
  {
   "cell_type": "markdown",
   "id": "a8270910",
   "metadata": {},
   "source": [
    "## Pré-Processamento da Série Temporal com TimeseriesGenerator"
   ]
  },
  {
   "cell_type": "code",
   "execution_count": 34,
   "id": "654c50a3",
   "metadata": {},
   "outputs": [],
   "source": [
    "# Janela de previsão que o modelo será treinado\n",
    "n_input = 12"
   ]
  },
  {
   "cell_type": "code",
   "execution_count": 35,
   "id": "e19d45a0",
   "metadata": {},
   "outputs": [],
   "source": [
    "# Cria o generator\n",
    "generator = TimeseriesGenerator(scaled_treino, scaled_treino, length = n_input, batch_size = 1)"
   ]
  },
  {
   "cell_type": "code",
   "execution_count": 36,
   "id": "97f864be",
   "metadata": {},
   "outputs": [],
   "source": [
    "# Extrai o primeiro item do generator para visualizar\n",
    "X,y = generator[0]"
   ]
  },
  {
   "cell_type": "code",
   "execution_count": 37,
   "id": "1b832289",
   "metadata": {},
   "outputs": [
    {
     "data": {
      "text/plain": [
       "(1, 12, 1)"
      ]
     },
     "execution_count": 37,
     "metadata": {},
     "output_type": "execute_result"
    }
   ],
   "source": [
    "X.shape"
   ]
  },
  {
   "cell_type": "code",
   "execution_count": 38,
   "id": "b625f766",
   "metadata": {},
   "outputs": [
    {
     "data": {
      "text/plain": [
       "(1, 1)"
      ]
     },
     "execution_count": 38,
     "metadata": {},
     "output_type": "execute_result"
    }
   ],
   "source": [
    "y.shape"
   ]
  },
  {
   "cell_type": "code",
   "execution_count": 39,
   "id": "876d745a",
   "metadata": {},
   "outputs": [
    {
     "name": "stdout",
     "output_type": "stream",
     "text": [
      "\n",
      "Array de Entrada (x): \n",
      "[0.288186   0.38402271 0.31974858 0.39659367 0.17315491 0.36476075\n",
      " 0.27987294 0.21857259 0.4699243  0.32562855 0.32447959 0.32069478]\n",
      "\n",
      "Previsão (y): \n",
      " [[0.32116788]]\n"
     ]
    }
   ],
   "source": [
    "print(f'\\nArray de Entrada (x): \\n{X.flatten()}')\n",
    "print(f'\\nPrevisão (y): \\n {y}')"
   ]
  },
  {
   "cell_type": "markdown",
   "id": "fcc4b02f",
   "metadata": {},
   "source": [
    "## Modelagem"
   ]
  },
  {
   "cell_type": "code",
   "execution_count": 40,
   "id": "14a12b59",
   "metadata": {},
   "outputs": [],
   "source": [
    "# Número de atributos\n",
    "n_features = 1"
   ]
  },
  {
   "cell_type": "code",
   "execution_count": 41,
   "id": "ac737695",
   "metadata": {},
   "outputs": [],
   "source": [
    "# Modelo\n",
    "modelo = Sequential()\n",
    "modelo.add(LSTM(200, activation = 'relu', input_shape = (n_input, n_features)))\n",
    "modelo.add(Dense(1))\n",
    "modelo.compile(optimizer = 'adam', loss = 'mse')"
   ]
  },
  {
   "cell_type": "code",
   "execution_count": 42,
   "id": "10f36d9a",
   "metadata": {},
   "outputs": [
    {
     "name": "stdout",
     "output_type": "stream",
     "text": [
      "Model: \"sequential\"\n",
      "_________________________________________________________________\n",
      " Layer (type)                Output Shape              Param #   \n",
      "=================================================================\n",
      " lstm (LSTM)                 (None, 200)               161600    \n",
      "                                                                 \n",
      " dense (Dense)               (None, 1)                 201       \n",
      "                                                                 \n",
      "=================================================================\n",
      "Total params: 161,801\n",
      "Trainable params: 161,801\n",
      "Non-trainable params: 0\n",
      "_________________________________________________________________\n"
     ]
    }
   ],
   "source": [
    "# Sumário\n",
    "modelo.summary()"
   ]
  },
  {
   "cell_type": "code",
   "execution_count": 43,
   "id": "ec39595f",
   "metadata": {
    "scrolled": true
   },
   "outputs": [
    {
     "name": "stdout",
     "output_type": "stream",
     "text": [
      "Epoch 1/200\n",
      "51/51 [==============================] - 1s 5ms/step - loss: 0.0796\n",
      "Epoch 2/200\n",
      "51/51 [==============================] - 0s 5ms/step - loss: 0.0742\n",
      "Epoch 3/200\n",
      "51/51 [==============================] - 0s 5ms/step - loss: 0.0623\n",
      "Epoch 4/200\n",
      "51/51 [==============================] - 0s 5ms/step - loss: 0.0653\n",
      "Epoch 5/200\n",
      "51/51 [==============================] - 0s 5ms/step - loss: 0.0614\n",
      "Epoch 6/200\n",
      "51/51 [==============================] - 0s 5ms/step - loss: 0.0659\n",
      "Epoch 7/200\n",
      "51/51 [==============================] - 0s 5ms/step - loss: 0.0648\n",
      "Epoch 8/200\n",
      "51/51 [==============================] - 0s 5ms/step - loss: 0.0625\n",
      "Epoch 9/200\n",
      "51/51 [==============================] - 0s 5ms/step - loss: 0.0584\n",
      "Epoch 10/200\n",
      "51/51 [==============================] - 0s 5ms/step - loss: 0.0610\n",
      "Epoch 11/200\n",
      "51/51 [==============================] - 0s 5ms/step - loss: 0.0622\n",
      "Epoch 12/200\n",
      "51/51 [==============================] - 0s 5ms/step - loss: 0.0578\n",
      "Epoch 13/200\n",
      "51/51 [==============================] - 0s 5ms/step - loss: 0.0583\n",
      "Epoch 14/200\n",
      "51/51 [==============================] - 0s 5ms/step - loss: 0.0561\n",
      "Epoch 15/200\n",
      "51/51 [==============================] - 0s 6ms/step - loss: 0.0577\n",
      "Epoch 16/200\n",
      "51/51 [==============================] - 0s 5ms/step - loss: 0.0559\n",
      "Epoch 17/200\n",
      "51/51 [==============================] - 0s 5ms/step - loss: 0.0572\n",
      "Epoch 18/200\n",
      "51/51 [==============================] - 0s 5ms/step - loss: 0.0544\n",
      "Epoch 19/200\n",
      "51/51 [==============================] - 0s 5ms/step - loss: 0.0583\n",
      "Epoch 20/200\n",
      "51/51 [==============================] - 0s 5ms/step - loss: 0.0584\n",
      "Epoch 21/200\n",
      "51/51 [==============================] - 0s 5ms/step - loss: 0.0576\n",
      "Epoch 22/200\n",
      "51/51 [==============================] - 0s 6ms/step - loss: 0.0526\n",
      "Epoch 23/200\n",
      "51/51 [==============================] - 0s 6ms/step - loss: 0.0562\n",
      "Epoch 24/200\n",
      "51/51 [==============================] - 0s 6ms/step - loss: 0.0537\n",
      "Epoch 25/200\n",
      "51/51 [==============================] - 0s 5ms/step - loss: 0.0530\n",
      "Epoch 26/200\n",
      "51/51 [==============================] - 0s 6ms/step - loss: 0.0513\n",
      "Epoch 27/200\n",
      "51/51 [==============================] - 0s 6ms/step - loss: 0.0542\n",
      "Epoch 28/200\n",
      "51/51 [==============================] - 0s 5ms/step - loss: 0.0516\n",
      "Epoch 29/200\n",
      "51/51 [==============================] - 0s 6ms/step - loss: 0.0517\n",
      "Epoch 30/200\n",
      "51/51 [==============================] - 0s 6ms/step - loss: 0.0506\n",
      "Epoch 31/200\n",
      "51/51 [==============================] - 0s 5ms/step - loss: 0.0506\n",
      "Epoch 32/200\n",
      "51/51 [==============================] - 0s 5ms/step - loss: 0.0534\n",
      "Epoch 33/200\n",
      "51/51 [==============================] - 1s 10ms/step - loss: 0.0526\n",
      "Epoch 34/200\n",
      "51/51 [==============================] - 0s 7ms/step - loss: 0.0507\n",
      "Epoch 35/200\n",
      "51/51 [==============================] - 0s 6ms/step - loss: 0.0483\n",
      "Epoch 36/200\n",
      "51/51 [==============================] - 0s 5ms/step - loss: 0.0514\n",
      "Epoch 37/200\n",
      "51/51 [==============================] - 0s 5ms/step - loss: 0.0505\n",
      "Epoch 38/200\n",
      "51/51 [==============================] - 0s 5ms/step - loss: 0.0495\n",
      "Epoch 39/200\n",
      "51/51 [==============================] - 0s 5ms/step - loss: 0.0518\n",
      "Epoch 40/200\n",
      "51/51 [==============================] - 0s 5ms/step - loss: 0.0477\n",
      "Epoch 41/200\n",
      "51/51 [==============================] - 0s 7ms/step - loss: 0.0495\n",
      "Epoch 42/200\n",
      "51/51 [==============================] - 0s 7ms/step - loss: 0.0513\n",
      "Epoch 43/200\n",
      "51/51 [==============================] - 0s 6ms/step - loss: 0.0469\n",
      "Epoch 44/200\n",
      "51/51 [==============================] - 0s 5ms/step - loss: 0.0479\n",
      "Epoch 45/200\n",
      "51/51 [==============================] - 0s 5ms/step - loss: 0.0476\n",
      "Epoch 46/200\n",
      "51/51 [==============================] - 0s 7ms/step - loss: 0.0511\n",
      "Epoch 47/200\n",
      "51/51 [==============================] - 0s 6ms/step - loss: 0.0501\n",
      "Epoch 48/200\n",
      "51/51 [==============================] - 0s 7ms/step - loss: 0.0462\n",
      "Epoch 49/200\n",
      "51/51 [==============================] - 0s 5ms/step - loss: 0.0528\n",
      "Epoch 50/200\n",
      "51/51 [==============================] - 0s 5ms/step - loss: 0.0512\n",
      "Epoch 51/200\n",
      "51/51 [==============================] - 0s 4ms/step - loss: 0.0495\n",
      "Epoch 52/200\n",
      "51/51 [==============================] - 0s 5ms/step - loss: 0.0473\n",
      "Epoch 53/200\n",
      "51/51 [==============================] - 0s 5ms/step - loss: 0.0482\n",
      "Epoch 54/200\n",
      "51/51 [==============================] - 0s 5ms/step - loss: 0.0431\n",
      "Epoch 55/200\n",
      "51/51 [==============================] - 0s 5ms/step - loss: 0.0511\n",
      "Epoch 56/200\n",
      "51/51 [==============================] - 0s 5ms/step - loss: 0.0483\n",
      "Epoch 57/200\n",
      "51/51 [==============================] - 0s 5ms/step - loss: 0.0472\n",
      "Epoch 58/200\n",
      "51/51 [==============================] - 0s 5ms/step - loss: 0.0434\n",
      "Epoch 59/200\n",
      "51/51 [==============================] - 0s 5ms/step - loss: 0.0472\n",
      "Epoch 60/200\n",
      "51/51 [==============================] - 0s 8ms/step - loss: 0.0431\n",
      "Epoch 61/200\n",
      "51/51 [==============================] - 0s 8ms/step - loss: 0.0433\n",
      "Epoch 62/200\n",
      "51/51 [==============================] - 0s 6ms/step - loss: 0.0443\n",
      "Epoch 63/200\n",
      "51/51 [==============================] - 0s 6ms/step - loss: 0.0437\n",
      "Epoch 64/200\n",
      "51/51 [==============================] - 0s 8ms/step - loss: 0.0454\n",
      "Epoch 65/200\n",
      "51/51 [==============================] - 0s 6ms/step - loss: 0.0440\n",
      "Epoch 66/200\n",
      "51/51 [==============================] - 0s 6ms/step - loss: 0.0430\n",
      "Epoch 67/200\n",
      "51/51 [==============================] - 0s 6ms/step - loss: 0.0413\n",
      "Epoch 68/200\n",
      "51/51 [==============================] - 0s 7ms/step - loss: 0.0409\n",
      "Epoch 69/200\n",
      "51/51 [==============================] - 0s 8ms/step - loss: 0.0406\n",
      "Epoch 70/200\n",
      "51/51 [==============================] - 0s 6ms/step - loss: 0.0470\n",
      "Epoch 71/200\n",
      "51/51 [==============================] - 0s 6ms/step - loss: 0.0443\n",
      "Epoch 72/200\n",
      "51/51 [==============================] - 0s 6ms/step - loss: 0.0433\n",
      "Epoch 73/200\n",
      "51/51 [==============================] - 0s 6ms/step - loss: 0.0414\n",
      "Epoch 74/200\n",
      "51/51 [==============================] - 0s 6ms/step - loss: 0.0392\n",
      "Epoch 75/200\n",
      "51/51 [==============================] - 0s 6ms/step - loss: 0.0424\n",
      "Epoch 76/200\n",
      "51/51 [==============================] - 0s 6ms/step - loss: 0.0418\n",
      "Epoch 77/200\n",
      "51/51 [==============================] - 0s 6ms/step - loss: 0.0413\n",
      "Epoch 78/200\n",
      "51/51 [==============================] - 0s 6ms/step - loss: 0.0379\n",
      "Epoch 79/200\n",
      "51/51 [==============================] - 0s 9ms/step - loss: 0.0397\n",
      "Epoch 80/200\n",
      "51/51 [==============================] - 0s 8ms/step - loss: 0.0370\n",
      "Epoch 81/200\n",
      "51/51 [==============================] - 0s 6ms/step - loss: 0.0415\n",
      "Epoch 82/200\n",
      "51/51 [==============================] - 0s 6ms/step - loss: 0.0400\n",
      "Epoch 83/200\n",
      "51/51 [==============================] - 0s 6ms/step - loss: 0.0415\n",
      "Epoch 84/200\n",
      "51/51 [==============================] - 0s 7ms/step - loss: 0.0390\n",
      "Epoch 85/200\n",
      "51/51 [==============================] - 0s 8ms/step - loss: 0.0348\n",
      "Epoch 86/200\n",
      "51/51 [==============================] - 0s 8ms/step - loss: 0.0391\n",
      "Epoch 87/200\n",
      "51/51 [==============================] - 0s 6ms/step - loss: 0.0381\n",
      "Epoch 88/200\n",
      "51/51 [==============================] - 0s 6ms/step - loss: 0.0352\n",
      "Epoch 89/200\n",
      "51/51 [==============================] - 0s 7ms/step - loss: 0.0329\n",
      "Epoch 90/200\n",
      "51/51 [==============================] - 0s 6ms/step - loss: 0.0353\n",
      "Epoch 91/200\n",
      "51/51 [==============================] - 0s 6ms/step - loss: 0.0358\n",
      "Epoch 92/200\n",
      "51/51 [==============================] - 0s 6ms/step - loss: 0.0448\n",
      "Epoch 93/200\n",
      "51/51 [==============================] - 0s 6ms/step - loss: 0.0384\n",
      "Epoch 94/200\n",
      "51/51 [==============================] - 0s 7ms/step - loss: 0.0395\n",
      "Epoch 95/200\n",
      "51/51 [==============================] - 0s 7ms/step - loss: 0.0344\n",
      "Epoch 96/200\n",
      "51/51 [==============================] - 0s 6ms/step - loss: 0.0331\n",
      "Epoch 97/200\n",
      "51/51 [==============================] - 0s 6ms/step - loss: 0.0405\n",
      "Epoch 98/200\n",
      "51/51 [==============================] - 0s 7ms/step - loss: 0.0315\n",
      "Epoch 99/200\n",
      "51/51 [==============================] - 0s 6ms/step - loss: 0.0283\n",
      "Epoch 100/200\n",
      "51/51 [==============================] - 0s 7ms/step - loss: 0.0276\n",
      "Epoch 101/200\n",
      "51/51 [==============================] - 0s 6ms/step - loss: 0.0281\n",
      "Epoch 102/200\n"
     ]
    },
    {
     "name": "stdout",
     "output_type": "stream",
     "text": [
      "51/51 [==============================] - 0s 6ms/step - loss: 0.0333\n",
      "Epoch 103/200\n",
      "51/51 [==============================] - 0s 6ms/step - loss: 0.0248\n",
      "Epoch 104/200\n",
      "51/51 [==============================] - 0s 7ms/step - loss: 0.0199\n",
      "Epoch 105/200\n",
      "51/51 [==============================] - 0s 6ms/step - loss: 0.0257\n",
      "Epoch 106/200\n",
      "51/51 [==============================] - 0s 7ms/step - loss: 0.0329\n",
      "Epoch 107/200\n",
      "51/51 [==============================] - 0s 6ms/step - loss: 0.0234\n",
      "Epoch 108/200\n",
      "51/51 [==============================] - 0s 6ms/step - loss: 0.0184\n",
      "Epoch 109/200\n",
      "51/51 [==============================] - 0s 6ms/step - loss: 0.0182\n",
      "Epoch 110/200\n",
      "51/51 [==============================] - 0s 6ms/step - loss: 0.0203\n",
      "Epoch 111/200\n",
      "51/51 [==============================] - 0s 7ms/step - loss: 0.0180\n",
      "Epoch 112/200\n",
      "51/51 [==============================] - 0s 6ms/step - loss: 0.0229\n",
      "Epoch 113/200\n",
      "51/51 [==============================] - 0s 5ms/step - loss: 0.0272\n",
      "Epoch 114/200\n",
      "51/51 [==============================] - 0s 6ms/step - loss: 0.0214\n",
      "Epoch 115/200\n",
      "51/51 [==============================] - 0s 6ms/step - loss: 0.0236\n",
      "Epoch 116/200\n",
      "51/51 [==============================] - 0s 6ms/step - loss: 0.0194\n",
      "Epoch 117/200\n",
      "51/51 [==============================] - 0s 6ms/step - loss: 0.0171\n",
      "Epoch 118/200\n",
      "51/51 [==============================] - 0s 5ms/step - loss: 0.0158\n",
      "Epoch 119/200\n",
      "51/51 [==============================] - 0s 6ms/step - loss: 0.0171\n",
      "Epoch 120/200\n",
      "51/51 [==============================] - 0s 5ms/step - loss: 0.0180\n",
      "Epoch 121/200\n",
      "51/51 [==============================] - 0s 5ms/step - loss: 0.0221\n",
      "Epoch 122/200\n",
      "51/51 [==============================] - 0s 6ms/step - loss: 0.0145\n",
      "Epoch 123/200\n",
      "51/51 [==============================] - 0s 5ms/step - loss: 0.0197\n",
      "Epoch 124/200\n",
      "51/51 [==============================] - 0s 6ms/step - loss: 0.0140\n",
      "Epoch 125/200\n",
      "51/51 [==============================] - 0s 5ms/step - loss: 0.0160\n",
      "Epoch 126/200\n",
      "51/51 [==============================] - 0s 5ms/step - loss: 0.0150\n",
      "Epoch 127/200\n",
      "51/51 [==============================] - 0s 5ms/step - loss: 0.0165\n",
      "Epoch 128/200\n",
      "51/51 [==============================] - 0s 5ms/step - loss: 0.0160\n",
      "Epoch 129/200\n",
      "51/51 [==============================] - 0s 5ms/step - loss: 0.0153\n",
      "Epoch 130/200\n",
      "51/51 [==============================] - 0s 5ms/step - loss: 0.0122\n",
      "Epoch 131/200\n",
      "51/51 [==============================] - 0s 6ms/step - loss: 0.0143\n",
      "Epoch 132/200\n",
      "51/51 [==============================] - 0s 5ms/step - loss: 0.0147\n",
      "Epoch 133/200\n",
      "51/51 [==============================] - 0s 5ms/step - loss: 0.0129\n",
      "Epoch 134/200\n",
      "51/51 [==============================] - 0s 6ms/step - loss: 0.0197\n",
      "Epoch 135/200\n",
      "51/51 [==============================] - 0s 5ms/step - loss: 0.0120\n",
      "Epoch 136/200\n",
      "51/51 [==============================] - 0s 5ms/step - loss: 0.0124\n",
      "Epoch 137/200\n",
      "51/51 [==============================] - 0s 5ms/step - loss: 0.0113\n",
      "Epoch 138/200\n",
      "51/51 [==============================] - 0s 5ms/step - loss: 0.0100\n",
      "Epoch 139/200\n",
      "51/51 [==============================] - 0s 5ms/step - loss: 0.0115\n",
      "Epoch 140/200\n",
      "51/51 [==============================] - 0s 5ms/step - loss: 0.0104\n",
      "Epoch 141/200\n",
      "51/51 [==============================] - 0s 5ms/step - loss: 0.0092\n",
      "Epoch 142/200\n",
      "51/51 [==============================] - 0s 5ms/step - loss: 0.0098\n",
      "Epoch 143/200\n",
      "51/51 [==============================] - 0s 5ms/step - loss: 0.0095\n",
      "Epoch 144/200\n",
      "51/51 [==============================] - 0s 6ms/step - loss: 0.0114\n",
      "Epoch 145/200\n",
      "51/51 [==============================] - 0s 5ms/step - loss: 0.0107\n",
      "Epoch 146/200\n",
      "51/51 [==============================] - 0s 6ms/step - loss: 0.0082\n",
      "Epoch 147/200\n",
      "51/51 [==============================] - 0s 6ms/step - loss: 0.0091\n",
      "Epoch 148/200\n",
      "51/51 [==============================] - 0s 5ms/step - loss: 0.0066\n",
      "Epoch 149/200\n",
      "51/51 [==============================] - 0s 5ms/step - loss: 0.0079\n",
      "Epoch 150/200\n",
      "51/51 [==============================] - 0s 6ms/step - loss: 0.0070\n",
      "Epoch 151/200\n",
      "51/51 [==============================] - 0s 5ms/step - loss: 0.0064\n",
      "Epoch 152/200\n",
      "51/51 [==============================] - 0s 6ms/step - loss: 0.0063\n",
      "Epoch 153/200\n",
      "51/51 [==============================] - 0s 6ms/step - loss: 0.0055\n",
      "Epoch 154/200\n",
      "51/51 [==============================] - 0s 5ms/step - loss: 0.0051\n",
      "Epoch 155/200\n",
      "51/51 [==============================] - 0s 5ms/step - loss: 0.0075\n",
      "Epoch 156/200\n",
      "51/51 [==============================] - 0s 5ms/step - loss: 0.0076\n",
      "Epoch 157/200\n",
      "51/51 [==============================] - 0s 6ms/step - loss: 0.0070\n",
      "Epoch 158/200\n",
      "51/51 [==============================] - 0s 6ms/step - loss: 0.0062\n",
      "Epoch 159/200\n",
      "51/51 [==============================] - 0s 5ms/step - loss: 0.0050\n",
      "Epoch 160/200\n",
      "51/51 [==============================] - 0s 5ms/step - loss: 0.0080\n",
      "Epoch 161/200\n",
      "51/51 [==============================] - 0s 5ms/step - loss: 0.0090\n",
      "Epoch 162/200\n",
      "51/51 [==============================] - 0s 5ms/step - loss: 0.0095\n",
      "Epoch 163/200\n",
      "51/51 [==============================] - 0s 5ms/step - loss: 0.0085\n",
      "Epoch 164/200\n",
      "51/51 [==============================] - 0s 5ms/step - loss: 0.0071\n",
      "Epoch 165/200\n",
      "51/51 [==============================] - 0s 5ms/step - loss: 0.0057\n",
      "Epoch 166/200\n",
      "51/51 [==============================] - 0s 5ms/step - loss: 0.0066\n",
      "Epoch 167/200\n",
      "51/51 [==============================] - 0s 5ms/step - loss: 0.0047\n",
      "Epoch 168/200\n",
      "51/51 [==============================] - 0s 5ms/step - loss: 0.0062\n",
      "Epoch 169/200\n",
      "51/51 [==============================] - 0s 5ms/step - loss: 0.0035\n",
      "Epoch 170/200\n",
      "51/51 [==============================] - 0s 5ms/step - loss: 0.0048\n",
      "Epoch 171/200\n",
      "51/51 [==============================] - 0s 5ms/step - loss: 0.0084\n",
      "Epoch 172/200\n",
      "51/51 [==============================] - 0s 5ms/step - loss: 0.0077\n",
      "Epoch 173/200\n",
      "51/51 [==============================] - 0s 5ms/step - loss: 0.0066\n",
      "Epoch 174/200\n",
      "51/51 [==============================] - 0s 5ms/step - loss: 0.0049\n",
      "Epoch 175/200\n",
      "51/51 [==============================] - 0s 5ms/step - loss: 0.0046\n",
      "Epoch 176/200\n",
      "51/51 [==============================] - 0s 6ms/step - loss: 0.0053\n",
      "Epoch 177/200\n",
      "51/51 [==============================] - 0s 6ms/step - loss: 0.0045\n",
      "Epoch 178/200\n",
      "51/51 [==============================] - 0s 5ms/step - loss: 0.0032\n",
      "Epoch 179/200\n",
      "51/51 [==============================] - 0s 5ms/step - loss: 0.0042\n",
      "Epoch 180/200\n",
      "51/51 [==============================] - 0s 5ms/step - loss: 0.0030\n",
      "Epoch 181/200\n",
      "51/51 [==============================] - 0s 5ms/step - loss: 0.0048\n",
      "Epoch 182/200\n",
      "51/51 [==============================] - 0s 5ms/step - loss: 0.0032\n",
      "Epoch 183/200\n",
      "51/51 [==============================] - 0s 5ms/step - loss: 0.0039\n",
      "Epoch 184/200\n",
      "51/51 [==============================] - 0s 5ms/step - loss: 0.0044\n",
      "Epoch 185/200\n",
      "51/51 [==============================] - 0s 5ms/step - loss: 0.0033\n",
      "Epoch 186/200\n",
      "51/51 [==============================] - 0s 5ms/step - loss: 0.0035\n",
      "Epoch 187/200\n",
      "51/51 [==============================] - 0s 5ms/step - loss: 0.0025\n",
      "Epoch 188/200\n",
      "51/51 [==============================] - 0s 6ms/step - loss: 0.0037\n",
      "Epoch 189/200\n",
      "51/51 [==============================] - 0s 6ms/step - loss: 0.0044\n",
      "Epoch 190/200\n",
      "51/51 [==============================] - 0s 5ms/step - loss: 0.0031\n",
      "Epoch 191/200\n",
      "51/51 [==============================] - 0s 5ms/step - loss: 0.0032\n",
      "Epoch 192/200\n",
      "51/51 [==============================] - 0s 5ms/step - loss: 0.0023\n",
      "Epoch 193/200\n",
      "51/51 [==============================] - 0s 6ms/step - loss: 0.0020\n",
      "Epoch 194/200\n",
      "51/51 [==============================] - 0s 5ms/step - loss: 0.0026\n",
      "Epoch 195/200\n",
      "51/51 [==============================] - 0s 5ms/step - loss: 0.0020\n",
      "Epoch 196/200\n",
      "51/51 [==============================] - 0s 6ms/step - loss: 0.0029\n",
      "Epoch 197/200\n",
      "51/51 [==============================] - 0s 5ms/step - loss: 0.0032\n",
      "Epoch 198/200\n",
      "51/51 [==============================] - 0s 5ms/step - loss: 0.0029\n",
      "Epoch 199/200\n",
      "51/51 [==============================] - 0s 5ms/step - loss: 0.0032\n",
      "Epoch 200/200\n",
      "51/51 [==============================] - 0s 5ms/step - loss: 0.0022\n"
     ]
    },
    {
     "data": {
      "text/plain": [
       "<keras.callbacks.History at 0x7fb812f87e80>"
      ]
     },
     "execution_count": 43,
     "metadata": {},
     "output_type": "execute_result"
    }
   ],
   "source": [
    "# Treinamento\n",
    "modelo.fit(generator, epochs = 200)"
   ]
  },
  {
   "cell_type": "code",
   "execution_count": 44,
   "id": "dbb865c7",
   "metadata": {},
   "outputs": [],
   "source": [
    "# Erro por epoch\n",
    "loss_per_epoch = modelo.history.history['loss']"
   ]
  },
  {
   "cell_type": "code",
   "execution_count": 45,
   "id": "3ad9c95c",
   "metadata": {},
   "outputs": [
    {
     "data": {
      "text/plain": [
       "[<matplotlib.lines.Line2D at 0x7fb812d7ecd0>]"
      ]
     },
     "execution_count": 45,
     "metadata": {},
     "output_type": "execute_result"
    },
    {
     "data": {
      "image/png": "[encoded data removed]",
      "text/plain": [
       "<Figure size 640x480 with 1 Axes>"
      ]
     },
     "metadata": {},
     "output_type": "display_data"
    }
   ],
   "source": [
    "plt.plot(range(len(loss_per_epoch)), loss_per_epoch)"
   ]
  },
  {
   "cell_type": "code",
   "execution_count": 46,
   "id": "07a9d275",
   "metadata": {},
   "outputs": [],
   "source": [
    "# Último batch de treino\n",
    "ultimo_batch_treino = scaled_treino[-12:]"
   ]
  },
  {
   "cell_type": "code",
   "execution_count": 47,
   "id": "670aee07",
   "metadata": {},
   "outputs": [],
   "source": [
    "# Ajusta o shape\n",
    "ultimo_batch_treino = ultimo_batch_treino.reshape((1, n_input, n_features))"
   ]
  },
  {
   "cell_type": "code",
   "execution_count": 48,
   "id": "47ce86ec",
   "metadata": {},
   "outputs": [
    {
     "name": "stdout",
     "output_type": "stream",
     "text": [
      "1/1 [==============================] - 0s 161ms/step\n"
     ]
    },
    {
     "data": {
      "text/plain": [
       "array([[0.8115062]], dtype=float32)"
      ]
     },
     "execution_count": 48,
     "metadata": {},
     "output_type": "execute_result"
    }
   ],
   "source": [
    "# Previsão em treino\n",
    "modelo.predict(ultimo_batch_treino)"
   ]
  },
  {
   "cell_type": "markdown",
   "id": "bd19f33f",
   "metadata": {},
   "source": [
    "## Previsões em Teste e Avaliação do Modelo"
   ]
  },
  {
   "cell_type": "code",
   "execution_count": 49,
   "id": "77b6cd85",
   "metadata": {},
   "outputs": [],
   "source": [
    "previsoes_teste = []"
   ]
  },
  {
   "cell_type": "code",
   "execution_count": 50,
   "id": "2dec1372",
   "metadata": {},
   "outputs": [],
   "source": [
    "# Primeiro batch\n",
    "first_eval_batch = scaled_teste[-n_input:]"
   ]
  },
  {
   "cell_type": "code",
   "execution_count": 51,
   "id": "e09ca8d3",
   "metadata": {},
   "outputs": [],
   "source": [
    "# Batch corrente\n",
    "current_batch = first_eval_batch.reshape((1, n_input, n_features))"
   ]
  },
  {
   "cell_type": "code",
   "execution_count": 52,
   "id": "250bb396",
   "metadata": {},
   "outputs": [
    {
     "data": {
      "text/plain": [
       "array([[[0.57603406],\n",
       "        [0.36476075],\n",
       "        [0.53622601],\n",
       "        [0.58400919],\n",
       "        [0.18180589],\n",
       "        [0.36476075],\n",
       "        [0.36476075],\n",
       "        [0.32272236],\n",
       "        [0.39659367],\n",
       "        [0.62956204],\n",
       "        [0.63591511],\n",
       "        [0.25885374]]])"
      ]
     },
     "execution_count": 52,
     "metadata": {},
     "output_type": "execute_result"
    }
   ],
   "source": [
    "current_batch"
   ]
  },
  {
   "cell_type": "code",
   "execution_count": 53,
   "id": "98a896b8",
   "metadata": {},
   "outputs": [
    {
     "data": {
      "text/html": [
       "<div>\n",
       "<style scoped>\n",
       "    .dataframe tbody tr th:only-of-type {\n",
       "        vertical-align: middle;\n",
       "    }\n",
       "\n",
       "    .dataframe tbody tr th {\n",
       "        vertical-align: top;\n",
       "    }\n",
       "\n",
       "    .dataframe thead th {\n",
       "        text-align: right;\n",
       "    }\n",
       "</style>\n",
       "<table border=\"1\" class=\"dataframe\">\n",
       "  <thead>\n",
       "    <tr style=\"text-align: right;\">\n",
       "      <th></th>\n",
       "      <th>Vendas</th>\n",
       "    </tr>\n",
       "    <tr>\n",
       "      <th>Mes</th>\n",
       "      <th></th>\n",
       "    </tr>\n",
       "  </thead>\n",
       "  <tbody>\n",
       "    <tr>\n",
       "      <th>2021-04-01</th>\n",
       "      <td>18316</td>\n",
       "    </tr>\n",
       "    <tr>\n",
       "      <th>2021-05-01</th>\n",
       "      <td>15190</td>\n",
       "    </tr>\n",
       "    <tr>\n",
       "      <th>2021-06-01</th>\n",
       "      <td>17727</td>\n",
       "    </tr>\n",
       "    <tr>\n",
       "      <th>2021-07-01</th>\n",
       "      <td>18434</td>\n",
       "    </tr>\n",
       "    <tr>\n",
       "      <th>2021-08-01</th>\n",
       "      <td>12483</td>\n",
       "    </tr>\n",
       "  </tbody>\n",
       "</table>\n",
       "</div>"
      ],
      "text/plain": [
       "            Vendas\n",
       "Mes               \n",
       "2021-04-01   18316\n",
       "2021-05-01   15190\n",
       "2021-06-01   17727\n",
       "2021-07-01   18434\n",
       "2021-08-01   12483"
      ]
     },
     "execution_count": 53,
     "metadata": {},
     "output_type": "execute_result"
    }
   ],
   "source": [
    "dados_teste.head()"
   ]
  },
  {
   "cell_type": "code",
   "execution_count": 54,
   "id": "38b083bb",
   "metadata": {},
   "outputs": [
    {
     "name": "stdout",
     "output_type": "stream",
     "text": [
      "1/1 [==============================] - 0s 22ms/step\n",
      "1/1 [==============================] - 0s 22ms/step\n",
      "1/1 [==============================] - 0s 22ms/step\n",
      "1/1 [==============================] - 0s 20ms/step\n",
      "1/1 [==============================] - 0s 20ms/step\n",
      "1/1 [==============================] - 0s 20ms/step\n",
      "1/1 [==============================] - 0s 19ms/step\n",
      "1/1 [==============================] - 0s 20ms/step\n",
      "1/1 [==============================] - 0s 21ms/step\n",
      "1/1 [==============================] - 0s 19ms/step\n",
      "1/1 [==============================] - 0s 20ms/step\n",
      "1/1 [==============================] - 0s 20ms/step\n"
     ]
    }
   ],
   "source": [
    "# Loop de previsão\n",
    "for i in range(len(dados_teste)):\n",
    "    \n",
    "    # Obtém o valor de previsão para o primeiro lote\n",
    "    current_pred = modelo.predict(current_batch)[0]\n",
    "    \n",
    "    # Adiciona a previsão na matriz\n",
    "    previsoes_teste.append(current_pred) \n",
    "    \n",
    "    # Usa a previsão para atualizar o lote e remover o primeiro valor\n",
    "    current_batch = np.append(current_batch[:,1:,:], [[current_pred]], axis = 1)"
   ]
  },
  {
   "cell_type": "code",
   "execution_count": 55,
   "id": "9aadd704",
   "metadata": {},
   "outputs": [
    {
     "data": {
      "text/plain": [
       "[array([0.2874358], dtype=float32),\n",
       " array([0.16401905], dtype=float32),\n",
       " array([0.16622794], dtype=float32),\n",
       " array([0.49235183], dtype=float32),\n",
       " array([0.31332472], dtype=float32),\n",
       " array([0.11823721], dtype=float32),\n",
       " array([0.22740018], dtype=float32),\n",
       " array([0.41041672], dtype=float32),\n",
       " array([0.39031336], dtype=float32),\n",
       " array([0.3578602], dtype=float32),\n",
       " array([0.33631292], dtype=float32),\n",
       " array([0.15715188], dtype=float32)]"
      ]
     },
     "execution_count": 55,
     "metadata": {},
     "output_type": "execute_result"
    }
   ],
   "source": [
    "previsoes_teste"
   ]
  },
  {
   "cell_type": "code",
   "execution_count": 56,
   "id": "2fa81c8f",
   "metadata": {},
   "outputs": [],
   "source": [
    "# Inverte a padronização\n",
    "true_previsoes_teste = scaler.inverse_transform(previsoes_teste)"
   ]
  },
  {
   "cell_type": "code",
   "execution_count": 57,
   "id": "a9712350",
   "metadata": {},
   "outputs": [],
   "source": [
    "# Adiciona as previsões no dataframe de dados de teste\n",
    "dados_teste['Previsao'] = true_previsoes_teste"
   ]
  },
  {
   "cell_type": "code",
   "execution_count": 58,
   "id": "90e35fe9",
   "metadata": {},
   "outputs": [
    {
     "data": {
      "text/html": [
       "<div>\n",
       "<style scoped>\n",
       "    .dataframe tbody tr th:only-of-type {\n",
       "        vertical-align: middle;\n",
       "    }\n",
       "\n",
       "    .dataframe tbody tr th {\n",
       "        vertical-align: top;\n",
       "    }\n",
       "\n",
       "    .dataframe thead th {\n",
       "        text-align: right;\n",
       "    }\n",
       "</style>\n",
       "<table border=\"1\" class=\"dataframe\">\n",
       "  <thead>\n",
       "    <tr style=\"text-align: right;\">\n",
       "      <th></th>\n",
       "      <th>Vendas</th>\n",
       "      <th>Previsao</th>\n",
       "    </tr>\n",
       "    <tr>\n",
       "      <th>Mes</th>\n",
       "      <th></th>\n",
       "      <th></th>\n",
       "    </tr>\n",
       "  </thead>\n",
       "  <tbody>\n",
       "    <tr>\n",
       "      <th>2021-04-01</th>\n",
       "      <td>18316</td>\n",
       "      <td>14045.900094</td>\n",
       "    </tr>\n",
       "    <tr>\n",
       "      <th>2021-05-01</th>\n",
       "      <td>15190</td>\n",
       "      <td>12219.825837</td>\n",
       "    </tr>\n",
       "    <tr>\n",
       "      <th>2021-06-01</th>\n",
       "      <td>17727</td>\n",
       "      <td>12252.508552</td>\n",
       "    </tr>\n",
       "    <tr>\n",
       "      <th>2021-07-01</th>\n",
       "      <td>18434</td>\n",
       "      <td>17077.837677</td>\n",
       "    </tr>\n",
       "    <tr>\n",
       "      <th>2021-08-01</th>\n",
       "      <td>12483</td>\n",
       "      <td>14428.952552</td>\n",
       "    </tr>\n",
       "  </tbody>\n",
       "</table>\n",
       "</div>"
      ],
      "text/plain": [
       "            Vendas      Previsao\n",
       "Mes                             \n",
       "2021-04-01   18316  14045.900094\n",
       "2021-05-01   15190  12219.825837\n",
       "2021-06-01   17727  12252.508552\n",
       "2021-07-01   18434  17077.837677\n",
       "2021-08-01   12483  14428.952552"
      ]
     },
     "execution_count": 58,
     "metadata": {},
     "output_type": "execute_result"
    }
   ],
   "source": [
    "dados_teste.head()"
   ]
  },
  {
   "cell_type": "code",
   "execution_count": 59,
   "id": "c8e3dc0d",
   "metadata": {},
   "outputs": [
    {
     "data": {
      "text/html": [
       "<div>\n",
       "<style scoped>\n",
       "    .dataframe tbody tr th:only-of-type {\n",
       "        vertical-align: middle;\n",
       "    }\n",
       "\n",
       "    .dataframe tbody tr th {\n",
       "        vertical-align: top;\n",
       "    }\n",
       "\n",
       "    .dataframe thead th {\n",
       "        text-align: right;\n",
       "    }\n",
       "</style>\n",
       "<table border=\"1\" class=\"dataframe\">\n",
       "  <thead>\n",
       "    <tr style=\"text-align: right;\">\n",
       "      <th></th>\n",
       "      <th>Vendas</th>\n",
       "      <th>Previsao</th>\n",
       "    </tr>\n",
       "    <tr>\n",
       "      <th>Mes</th>\n",
       "      <th></th>\n",
       "      <th></th>\n",
       "    </tr>\n",
       "  </thead>\n",
       "  <tbody>\n",
       "    <tr>\n",
       "      <th>2021-11-01</th>\n",
       "      <td>14568</td>\n",
       "      <td>15865.525823</td>\n",
       "    </tr>\n",
       "    <tr>\n",
       "      <th>2021-12-01</th>\n",
       "      <td>15661</td>\n",
       "      <td>15568.076432</td>\n",
       "    </tr>\n",
       "    <tr>\n",
       "      <th>2022-01-01</th>\n",
       "      <td>19108</td>\n",
       "      <td>15087.899631</td>\n",
       "    </tr>\n",
       "    <tr>\n",
       "      <th>2022-02-01</th>\n",
       "      <td>19202</td>\n",
       "      <td>14769.085962</td>\n",
       "    </tr>\n",
       "    <tr>\n",
       "      <th>2022-03-01</th>\n",
       "      <td>13623</td>\n",
       "      <td>12118.219185</td>\n",
       "    </tr>\n",
       "  </tbody>\n",
       "</table>\n",
       "</div>"
      ],
      "text/plain": [
       "            Vendas      Previsao\n",
       "Mes                             \n",
       "2021-11-01   14568  15865.525823\n",
       "2021-12-01   15661  15568.076432\n",
       "2022-01-01   19108  15087.899631\n",
       "2022-02-01   19202  14769.085962\n",
       "2022-03-01   13623  12118.219185"
      ]
     },
     "execution_count": 59,
     "metadata": {},
     "output_type": "execute_result"
    }
   ],
   "source": [
    "dados_teste.tail()"
   ]
  },
  {
   "cell_type": "code",
   "execution_count": 60,
   "id": "f5d4e4b1",
   "metadata": {},
   "outputs": [
    {
     "data": {
      "text/plain": [
       "<AxesSubplot:xlabel='Mes'>"
      ]
     },
     "execution_count": 60,
     "metadata": {},
     "output_type": "execute_result"
    },
    {
     "data": {
      "image/png": "[encoded data removed]",
      "text/plain": [
       "<Figure size 1400x500 with 1 Axes>"
      ]
     },
     "metadata": {},
     "output_type": "display_data"
    }
   ],
   "source": [
    "# Plot\n",
    "dados_teste.plot(figsize = (14,5))"
   ]
  },
  {
   "cell_type": "code",
   "execution_count": 61,
   "id": "6e36d03b",
   "metadata": {},
   "outputs": [],
   "source": [
    "# Calcula o erro\n",
    "rmse = sqrt(mean_squared_error(dados_teste['Vendas'], dados_teste['Previsao']))"
   ]
  },
  {
   "cell_type": "code",
   "execution_count": 62,
   "id": "1d954f19",
   "metadata": {},
   "outputs": [
    {
     "name": "stdout",
     "output_type": "stream",
     "text": [
      "3160.3726790164665\n"
     ]
    }
   ],
   "source": [
    "print(rmse)"
   ]
  },
  {
   "cell_type": "markdown",
   "id": "5315801f",
   "metadata": {},
   "source": [
    "# Fim"
   ]
  }
 ],
 "metadata": {
  "kernelspec": {
   "display_name": "Python 3 (ipykernel)",
   "language": "python",
   "name": "python3"
  },
  "language_info": {
   "codemirror_mode": {
    "name": "ipython",
    "version": 3
   },
   "file_extension": ".py",
   "mimetype": "text/x-python",
   "name": "python",
   "nbconvert_exporter": "python",
   "pygments_lexer": "ipython3",
   "version": "3.9.13"
  }
 },
 "nbformat": 4,
 "nbformat_minor": 5
}
