{
 "cells": [
  {
   "cell_type": "code",
   "execution_count": 1,
   "id": "43ed28cb",
   "metadata": {},
   "outputs": [],
   "source": [
    "avaliacoesUsuario = {'Ana': \n",
    "\t\t{'Freddy x Jason': 2.5, \n",
    "\t\t 'O Ultimato Bourne': 3.5,\n",
    "\t\t 'Star Trek': 3.0, \n",
    "\t\t 'Exterminador do Futuro': 3.5, \n",
    "\t\t 'Norbit': 2.5, \n",
    "\t\t 'Star Wars': 3.0},\n",
    "                     \n",
    "\t  'Marcos': \n",
    "\t\t{'Freddy x Jason': 3.0, \n",
    "\t\t 'O Ultimato Bourne': 3.5, \n",
    "\t\t 'Star Trek': 1.5, \n",
    "\t\t 'Exterminador do Futuro': 5.0, \n",
    "\t\t 'Star Wars': 3.0, \n",
    "\t\t 'Norbit': 3.5}, \n",
    "                     \n",
    "\t  'Pedro': \n",
    "\t    {'Freddy x Jason': 2.5, \n",
    "\t\t 'O Ultimato Bourne': 3.0,\n",
    "\t\t 'Exterminador do Futuro': 3.5, \n",
    "\t\t 'Star Wars': 4.0},\n",
    "                     \n",
    "\t  'Claudia': \n",
    "\t\t{'O Ultimato Bourne': 3.5, \n",
    "\t\t 'Star Trek': 3.0,\n",
    "\t\t 'Star Wars': 4.5, \n",
    "\t\t 'Exterminador do Futuro': 4.0, \n",
    "\t\t 'Norbit': 2.5},\n",
    "                     \n",
    "\t  'Adriano': \n",
    "\t\t{'Freddy x Jason': 3.0, \n",
    "\t\t 'O Ultimato Bourne': 4.0, \n",
    "\t\t 'Star Trek': 2.0, \n",
    "\t\t 'Exterminador do Futuro': 3.0, \n",
    "\t\t 'Star Wars': 3.0,\n",
    "\t\t 'Norbit': 2.0}, \n",
    "                     \n",
    "\t  'Janaina': \n",
    "\t     {'Freddy x Jason': 3.0, \n",
    "\t      'O Ultimato Bourne': 4.0,\n",
    "\t      'Star Wars': 3.0, \n",
    "\t      'Exterminador do Futuro': 5.0, \n",
    "\t      'Norbit': 3.5},\n",
    "                     \n",
    "\t  'Leonardo': \n",
    "\t    {'O Ultimato Bourne':4.5,\n",
    "         'Norbit':1.0,\n",
    "\t     'Exterminador do Futuro':4.0}\n",
    "}"
   ]
  },
  {
   "cell_type": "markdown",
   "id": "0a7975c0",
   "metadata": {},
   "source": [
    "Com base no histórico de compras do cliente, faremos recomendações de produtos similares ao que ele está procurando ou poderia comprar."
   ]
  },
  {
   "cell_type": "code",
   "execution_count": 2,
   "id": "8cd35341",
   "metadata": {},
   "outputs": [],
   "source": [
    "avaliacoesFilme = {'Freddy x Jason': \n",
    "\t\t{'Ana': 2.5, \n",
    "\t\t 'Marcos:': 3.0 ,\n",
    "\t\t 'Pedro': 2.5, \n",
    "\t\t 'Adriano': 3.0, \n",
    "\t\t 'Janaina': 3.0 },\n",
    "\t \n",
    "\t 'O Ultimato Bourne': \n",
    "\t\t{'Ana': 3.5, \n",
    "\t\t 'Marcos': 3.5,\n",
    "\t\t 'Pedro': 3.0, \n",
    "\t\t 'Claudia': 3.5, \n",
    "\t\t 'Adriano': 4.0, \n",
    "\t\t 'Janaina': 4.0,\n",
    "\t\t 'Leonardo': 4.5 },\n",
    "\t\t\t\t \n",
    "\t 'Star Trek': \n",
    "\t\t{'Ana': 3.0, \n",
    "\t\t 'Marcos:': 1.5,\n",
    "\t\t 'Claudia': 3.0, \n",
    "\t\t 'Adriano': 2.0 },\n",
    "\t\n",
    "\t 'Exterminador do Futuro': \n",
    "\t\t{'Ana': 3.5, \n",
    "\t\t 'Marcos:': 5.0 ,\n",
    "\t\t 'Pedro': 3.5, \n",
    "\t\t 'Claudia': 4.0, \n",
    "\t\t 'Adriano': 3.0, \n",
    "\t\t 'Janaina': 5.0,\n",
    "\t\t 'Leonardo': 4.0},\n",
    "\t\t\t\t \n",
    "\t 'Norbit': \n",
    "\t\t{'Ana': 2.5, \n",
    "\t\t 'Marcos:': 3.0 ,\n",
    "\t\t 'Claudia': 2.5, \n",
    "\t\t 'Adriano': 2.0, \n",
    "\t\t 'Janaina': 3.5,\n",
    "\t\t 'Leonardo': 1.0},\n",
    "\t\t\t\t \n",
    "\t 'Star Wars': \n",
    "\t\t{'Ana': 3.0, \n",
    "\t\t 'Marcos:': 3.5,\n",
    "\t\t 'Pedro': 4.0, \n",
    "\t\t 'Claudia': 4.5, \n",
    "\t\t 'Adriano': 3.0, \n",
    "\t\t 'Janaina': 3.0}\n",
    "}"
   ]
  },
  {
   "cell_type": "code",
   "execution_count": 3,
   "id": "62757dfa",
   "metadata": {},
   "outputs": [],
   "source": [
    "from math import sqrt\n",
    "\n",
    "def euclidiana(base, usuario1, usuario2):\n",
    "    si = {}\n",
    "    for item in base[usuario1]:\n",
    "        if item in base[usuario2]: si[item] = 1\n",
    "\n",
    "    if len(si) == 0: return 0\n",
    "\n",
    "    soma = sum([pow(base[usuario1][item] - base[usuario2][item], 2)\n",
    "                for item in base[usuario1] if item in base[usuario2]])\n",
    "    return 1/(1 + sqrt(soma))\n",
    "\n",
    "def getSimilares(base, usuario):\n",
    "    similaridade = [(euclidiana(base, usuario, outro), outro)\n",
    "                    for outro in base if outro != usuario]\n",
    "    similaridade.sort()\n",
    "    similaridade.reverse()\n",
    "    return similaridade[0:30]\n",
    "    \n",
    "def getRecomendacoesUsuario(base, usuario):\n",
    "    totais={}\n",
    "    somaSimilaridade={}\n",
    "    for outro in base:\n",
    "        if outro == usuario: continue\n",
    "        similaridade = euclidiana(base, usuario, outro)\n",
    "\n",
    "        if similaridade <= 0: continue\n",
    "\n",
    "        for item in base[outro]:\n",
    "            if item not in base[usuario]:\n",
    "                totais.setdefault(item, 0)\n",
    "                totais[item] += base[outro][item] * similaridade\n",
    "                somaSimilaridade.setdefault(item, 0)\n",
    "                somaSimilaridade[item] += similaridade\n",
    "    rankings=[(total / somaSimilaridade[item], item) for item, total in totais.items()]\n",
    "    rankings.sort()\n",
    "    rankings.reverse()\n",
    "    return rankings[0:30]\n",
    "                \n",
    "def calculaItensSimilares(base):\n",
    "    result = {}\n",
    "    for item in base:\n",
    "        notas = getSimilares(base, item)\n",
    "        result[item] = notas\n",
    "    return result\n",
    "\n",
    "def getRecomendacoesItens(baseUsuario, similaridadeItens, usuario):\n",
    "    notasUsuario = baseUsuario[usuario]\n",
    "    notas={}\n",
    "    totalSimilaridade={}\n",
    "    for (item, nota) in notasUsuario.items():\n",
    "        for (similaridade, item2) in similaridadeItens[item]:\n",
    "            if item2 in notasUsuario: continue\n",
    "            notas.setdefault(item2, 0)\n",
    "            notas[item2] += similaridade * nota\n",
    "            totalSimilaridade.setdefault(item2,0)\n",
    "            totalSimilaridade[item2] += similaridade\n",
    "    rankings=[(score/totalSimilaridade[item], item) for item, score in notas.items()]\n",
    "    rankings.sort()\n",
    "    rankings.reverse()\n",
    "    return rankings"
   ]
  },
  {
   "cell_type": "code",
   "execution_count": 4,
   "id": "ab3bf14c",
   "metadata": {},
   "outputs": [
    {
     "data": {
      "text/plain": [
       "[(3.457128694491423, 'Star Wars'),\n",
       " (2.778584003814924, 'Freddy x Jason'),\n",
       " (2.422482042361917, 'Star Trek')]"
      ]
     },
     "execution_count": 4,
     "metadata": {},
     "output_type": "execute_result"
    }
   ],
   "source": [
    "getRecomendacoesUsuario(avaliacoesUsuario, \"Leonardo\")"
   ]
  },
  {
   "cell_type": "code",
   "execution_count": 5,
   "id": "9ba042ff",
   "metadata": {},
   "outputs": [],
   "source": [
    "listaitens = calculaItensSimilares(avaliacoesFilme)"
   ]
  },
  {
   "cell_type": "code",
   "execution_count": 6,
   "id": "32863974",
   "metadata": {},
   "outputs": [
    {
     "data": {
      "text/plain": [
       "[(3.1962008423190285, 'Star Wars'),\n",
       " (2.929467965289551, 'Star Trek'),\n",
       " (2.8420889258196413, 'Freddy x Jason')]"
      ]
     },
     "execution_count": 6,
     "metadata": {},
     "output_type": "execute_result"
    }
   ],
   "source": [
    "getRecomendacoesItens(avaliacoesUsuario, listaitens, \"Leonardo\")"
   ]
  },
  {
   "cell_type": "code",
   "execution_count": 7,
   "id": "2b4cd0aa",
   "metadata": {},
   "outputs": [
    {
     "data": {
      "text/plain": [
       "[(2.74908990418004, 'Freddy x Jason')]"
      ]
     },
     "execution_count": 7,
     "metadata": {},
     "output_type": "execute_result"
    }
   ],
   "source": [
    "getRecomendacoesUsuario(avaliacoesUsuario, \"Claudia\")"
   ]
  },
  {
   "cell_type": "code",
   "execution_count": 8,
   "id": "b75bca18",
   "metadata": {},
   "outputs": [
    {
     "data": {
      "text/plain": [
       "[(3.4163752951356186, 'Freddy x Jason')]"
      ]
     },
     "execution_count": 8,
     "metadata": {},
     "output_type": "execute_result"
    }
   ],
   "source": [
    "getRecomendacoesItens(avaliacoesUsuario, listaitens, \"Claudia\")"
   ]
  },
  {
   "cell_type": "code",
   "execution_count": null,
   "id": "cc606a49",
   "metadata": {},
   "outputs": [],
   "source": []
  }
 ],
 "metadata": {
  "kernelspec": {
   "display_name": "Python 3 (ipykernel)",
   "language": "python",
   "name": "python3"
  },
  "language_info": {
   "codemirror_mode": {
    "name": "ipython",
    "version": 3
   },
   "file_extension": ".py",
   "mimetype": "text/x-python",
   "name": "python",
   "nbconvert_exporter": "python",
   "pygments_lexer": "ipython3",
   "version": "3.9.13"
  }
 },
 "nbformat": 4,
 "nbformat_minor": 5
}
