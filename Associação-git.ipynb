{
 "cells": [
  {
   "cell_type": "markdown",
   "metadata": {},
   "source": [
    "## Associação com Apriori\n",
    "- Trabalho realizado para a minha **pós-graduação em Inteligência Artificial**"
   ]
  },
  {
   "cell_type": "markdown",
   "metadata": {},
   "source": [
    "#### **Objetivo**: encontrar associações entre os itens mais frequentes da base de dados *Iris*."
   ]
  },
  {
   "cell_type": "markdown",
   "metadata": {},
   "source": [
    "### Parte 1 - Aplicação do Apriori nos dados originais"
   ]
  },
  {
   "cell_type": "code",
   "execution_count": 1,
   "metadata": {},
   "outputs": [],
   "source": [
    "#pip install apyori"
   ]
  },
  {
   "cell_type": "code",
   "execution_count": 2,
   "metadata": {},
   "outputs": [],
   "source": [
    "# Bibliotecas\n",
    "import pandas as pd       \n",
    "import numpy as np\n",
    "import matplotlib.pyplot as plt  \n",
    "from apyori import apriori"
   ]
  },
  {
   "cell_type": "markdown",
   "metadata": {},
   "source": [
    "**Convertendo o dataset Iris para o formato de lista, necessário para aplicar o Apriori**"
   ]
  },
  {
   "cell_type": "code",
   "execution_count": 3,
   "metadata": {},
   "outputs": [
    {
     "data": {
      "text/plain": [
       "[['sepal_length', 'sepal_width', 'petal_length', 'petal_width', 'species'],\n",
       " ['5.1', '3.5', '1.4', '0.2', 'setosa'],\n",
       " ['4.9', '3', '1.4', '0.2', 'setosa']]"
      ]
     },
     "execution_count": 3,
     "metadata": {},
     "output_type": "execute_result"
    }
   ],
   "source": [
    "transactions = []\n",
    "\n",
    "with open('data/iris.csv') as dataset:\n",
    "    for line in dataset:\n",
    "        transaction = [item for item in line.strip().split(',') if item != 'NaN']\n",
    "        transactions.append(transaction)\n",
    "    \n",
    "transactions[:3]"
   ]
  },
  {
   "cell_type": "markdown",
   "metadata": {},
   "source": [
    "**Aplicando a função Apriori**"
   ]
  },
  {
   "cell_type": "code",
   "execution_count": 4,
   "metadata": {},
   "outputs": [
    {
     "data": {
      "text/html": [
       "<div>\n",
       "<style scoped>\n",
       "    .dataframe tbody tr th:only-of-type {\n",
       "        vertical-align: middle;\n",
       "    }\n",
       "\n",
       "    .dataframe tbody tr th {\n",
       "        vertical-align: top;\n",
       "    }\n",
       "\n",
       "    .dataframe thead th {\n",
       "        text-align: right;\n",
       "    }\n",
       "</style>\n",
       "<table border=\"1\" class=\"dataframe\">\n",
       "  <thead>\n",
       "    <tr style=\"text-align: right;\">\n",
       "      <th></th>\n",
       "      <th>De</th>\n",
       "      <th>Para</th>\n",
       "      <th>Support</th>\n",
       "      <th>Confidence</th>\n",
       "      <th>Lift</th>\n",
       "    </tr>\n",
       "  </thead>\n",
       "  <tbody>\n",
       "    <tr>\n",
       "      <th>0</th>\n",
       "      <td>0.2</td>\n",
       "      <td>setosa</td>\n",
       "      <td>0.185430</td>\n",
       "      <td>1.000000</td>\n",
       "      <td>3.020000</td>\n",
       "    </tr>\n",
       "    <tr>\n",
       "      <th>3</th>\n",
       "      <td>setosa</td>\n",
       "      <td>1.5</td>\n",
       "      <td>0.092715</td>\n",
       "      <td>0.538462</td>\n",
       "      <td>1.626154</td>\n",
       "    </tr>\n",
       "    <tr>\n",
       "      <th>1</th>\n",
       "      <td>1.3</td>\n",
       "      <td>versicolor</td>\n",
       "      <td>0.086093</td>\n",
       "      <td>0.650000</td>\n",
       "      <td>1.963000</td>\n",
       "    </tr>\n",
       "    <tr>\n",
       "      <th>2</th>\n",
       "      <td>setosa</td>\n",
       "      <td>1.4</td>\n",
       "      <td>0.079470</td>\n",
       "      <td>0.600000</td>\n",
       "      <td>1.812000</td>\n",
       "    </tr>\n",
       "    <tr>\n",
       "      <th>4</th>\n",
       "      <td>1.8</td>\n",
       "      <td>virginica</td>\n",
       "      <td>0.072848</td>\n",
       "      <td>0.916667</td>\n",
       "      <td>2.768333</td>\n",
       "    </tr>\n",
       "  </tbody>\n",
       "</table>\n",
       "</div>"
      ],
      "text/plain": [
       "       De        Para   Support  Confidence      Lift\n",
       "0     0.2      setosa  0.185430    1.000000  3.020000\n",
       "3  setosa         1.5  0.092715    0.538462  1.626154\n",
       "1     1.3  versicolor  0.086093    0.650000  1.963000\n",
       "2  setosa         1.4  0.079470    0.600000  1.812000\n",
       "4     1.8   virginica  0.072848    0.916667  2.768333"
      ]
     },
     "execution_count": 4,
     "metadata": {},
     "output_type": "execute_result"
    }
   ],
   "source": [
    "# Requisitos mínimos de Suporte estabelecidos em 7% e de Confiança em 50%\n",
    "\n",
    "rules = list(apriori(\n",
    "    transactions, \n",
    "    min_support=0.07, \n",
    "    min_confidence=0.50,\n",
    "    min_length=2))\n",
    "\n",
    "rules_df = pd.DataFrame(\n",
    "    [{'De': list(rule[0])[0],\n",
    "    'Para': list(rule[0])[1],\n",
    "    'Support': rule[1],\n",
    "    'Confidence': rule[2][0][2],\n",
    "    'Lift': rule[2][0][3]} for rule in rules if len(rule[0]) == 2])\n",
    "rules_df = rules_df.dropna()\n",
    "\n",
    "rules_df = rules_df.sort_values('Support', ascending=False).head(20)\n",
    "rules_df.head(10)"
   ]
  },
  {
   "cell_type": "markdown",
   "metadata": {},
   "source": [
    "#### Comentário:\n",
    "- Para aplicar o Apriori sobre os dados originais e encontrar algum resultado, parametrizei as medidas de suporte e confiança em 0.07 e 0.50, respectivamente. Neste cenário, vemos que a classe **setosa** aparece associada aos itens 0.2, 1.5 e 1.4; a classe **versicolor** ao item 1.3; e a classe **virginica** ao item 1.8. No entanto, esse resultado não é muito informativo, pois não me permitiu tirar nenhuma conclusão relevante."
   ]
  },
  {
   "cell_type": "markdown",
   "metadata": {},
   "source": [
    "### Parte 2 - Aplicação do Apriori nos dados discretizados"
   ]
  },
  {
   "cell_type": "code",
   "execution_count": 5,
   "metadata": {},
   "outputs": [
    {
     "data": {
      "text/html": [
       "<div>\n",
       "<style scoped>\n",
       "    .dataframe tbody tr th:only-of-type {\n",
       "        vertical-align: middle;\n",
       "    }\n",
       "\n",
       "    .dataframe tbody tr th {\n",
       "        vertical-align: top;\n",
       "    }\n",
       "\n",
       "    .dataframe thead th {\n",
       "        text-align: right;\n",
       "    }\n",
       "</style>\n",
       "<table border=\"1\" class=\"dataframe\">\n",
       "  <thead>\n",
       "    <tr style=\"text-align: right;\">\n",
       "      <th></th>\n",
       "      <th>sepal_length</th>\n",
       "      <th>sepal_width</th>\n",
       "      <th>petal_length</th>\n",
       "      <th>petal_width</th>\n",
       "    </tr>\n",
       "  </thead>\n",
       "  <tbody>\n",
       "    <tr>\n",
       "      <th>count</th>\n",
       "      <td>150.000000</td>\n",
       "      <td>150.000000</td>\n",
       "      <td>150.000000</td>\n",
       "      <td>150.000000</td>\n",
       "    </tr>\n",
       "    <tr>\n",
       "      <th>mean</th>\n",
       "      <td>5.843333</td>\n",
       "      <td>3.054000</td>\n",
       "      <td>3.758667</td>\n",
       "      <td>1.198667</td>\n",
       "    </tr>\n",
       "    <tr>\n",
       "      <th>std</th>\n",
       "      <td>0.828066</td>\n",
       "      <td>0.433594</td>\n",
       "      <td>1.764420</td>\n",
       "      <td>0.763161</td>\n",
       "    </tr>\n",
       "    <tr>\n",
       "      <th>min</th>\n",
       "      <td>4.300000</td>\n",
       "      <td>2.000000</td>\n",
       "      <td>1.000000</td>\n",
       "      <td>0.100000</td>\n",
       "    </tr>\n",
       "    <tr>\n",
       "      <th>25%</th>\n",
       "      <td>5.100000</td>\n",
       "      <td>2.800000</td>\n",
       "      <td>1.600000</td>\n",
       "      <td>0.300000</td>\n",
       "    </tr>\n",
       "    <tr>\n",
       "      <th>50%</th>\n",
       "      <td>5.800000</td>\n",
       "      <td>3.000000</td>\n",
       "      <td>4.350000</td>\n",
       "      <td>1.300000</td>\n",
       "    </tr>\n",
       "    <tr>\n",
       "      <th>75%</th>\n",
       "      <td>6.400000</td>\n",
       "      <td>3.300000</td>\n",
       "      <td>5.100000</td>\n",
       "      <td>1.800000</td>\n",
       "    </tr>\n",
       "    <tr>\n",
       "      <th>max</th>\n",
       "      <td>7.900000</td>\n",
       "      <td>4.400000</td>\n",
       "      <td>6.900000</td>\n",
       "      <td>2.500000</td>\n",
       "    </tr>\n",
       "  </tbody>\n",
       "</table>\n",
       "</div>"
      ],
      "text/plain": [
       "       sepal_length  sepal_width  petal_length  petal_width\n",
       "count    150.000000   150.000000    150.000000   150.000000\n",
       "mean       5.843333     3.054000      3.758667     1.198667\n",
       "std        0.828066     0.433594      1.764420     0.763161\n",
       "min        4.300000     2.000000      1.000000     0.100000\n",
       "25%        5.100000     2.800000      1.600000     0.300000\n",
       "50%        5.800000     3.000000      4.350000     1.300000\n",
       "75%        6.400000     3.300000      5.100000     1.800000\n",
       "max        7.900000     4.400000      6.900000     2.500000"
      ]
     },
     "execution_count": 5,
     "metadata": {},
     "output_type": "execute_result"
    }
   ],
   "source": [
    "# Base de dados Iris original\n",
    "df = pd.read_csv('data/iris.csv')\n",
    "df.describe()"
   ]
  },
  {
   "cell_type": "markdown",
   "metadata": {},
   "source": [
    "**Discretizando os dados de acordo com os % de seus quantis mínimo, 50%, 75% e máximo**"
   ]
  },
  {
   "cell_type": "code",
   "execution_count": 6,
   "metadata": {},
   "outputs": [],
   "source": [
    "bin1 = [4.3, 5.8, 6.4, 7.9]\n",
    "bin2 = [2.0, 3.0, 3.3, 4.4]\n",
    "bin3 = [1.0, 4.35, 5.1, 6.9]\n",
    "bin4 = [0.1, 1.3, 1.8, 2.5]\n",
    "\n",
    "sepal_lth = pd.cut(df['sepal_length'].to_numpy(), bins=bin1, labels=[\"sep_lth_bxo\", \"sep_lth_md\", \"sep_lth_alto\"])\n",
    "sepal_wh = pd.cut(df['sepal_width'].to_numpy(), bins=bin2, labels=[\"sep_wth_bxo\", \"sep_wth_md\", \"sep_wtd_alto\"])\n",
    "petal_lth = pd.cut(df['petal_length'].to_numpy(), bins=bin3, labels=[\"pet_lth_bxo\", \"pet_lth_md\", \"pet_lth_alto\"])\n",
    "petal_wh = pd.cut(df['petal_width'].to_numpy(), bins=bin4, labels=[\"pet_wth_bxo\", \"pet_wth_md\", \"pet_wth_alto\"])"
   ]
  },
  {
   "cell_type": "code",
   "execution_count": 7,
   "metadata": {},
   "outputs": [],
   "source": [
    "df[\"sepal_lth\"] = sepal_lth\n",
    "df[\"sepal_wh\"] = sepal_wh\n",
    "df[\"petal_lth\"] = petal_lth\n",
    "df[\"petal_wh\"] = petal_wh"
   ]
  },
  {
   "cell_type": "code",
   "execution_count": 8,
   "metadata": {},
   "outputs": [
    {
     "data": {
      "text/html": [
       "<div>\n",
       "<style scoped>\n",
       "    .dataframe tbody tr th:only-of-type {\n",
       "        vertical-align: middle;\n",
       "    }\n",
       "\n",
       "    .dataframe tbody tr th {\n",
       "        vertical-align: top;\n",
       "    }\n",
       "\n",
       "    .dataframe thead th {\n",
       "        text-align: right;\n",
       "    }\n",
       "</style>\n",
       "<table border=\"1\" class=\"dataframe\">\n",
       "  <thead>\n",
       "    <tr style=\"text-align: right;\">\n",
       "      <th></th>\n",
       "      <th>sepal_length</th>\n",
       "      <th>sepal_width</th>\n",
       "      <th>petal_length</th>\n",
       "      <th>petal_width</th>\n",
       "      <th>species</th>\n",
       "      <th>sepal_lth</th>\n",
       "      <th>sepal_wh</th>\n",
       "      <th>petal_lth</th>\n",
       "      <th>petal_wh</th>\n",
       "    </tr>\n",
       "  </thead>\n",
       "  <tbody>\n",
       "    <tr>\n",
       "      <th>0</th>\n",
       "      <td>5.1</td>\n",
       "      <td>3.5</td>\n",
       "      <td>1.4</td>\n",
       "      <td>0.2</td>\n",
       "      <td>setosa</td>\n",
       "      <td>sep_lth_bxo</td>\n",
       "      <td>sep_wtd_alto</td>\n",
       "      <td>pet_lth_bxo</td>\n",
       "      <td>pet_wth_bxo</td>\n",
       "    </tr>\n",
       "  </tbody>\n",
       "</table>\n",
       "</div>"
      ],
      "text/plain": [
       "   sepal_length  sepal_width  petal_length  petal_width species    sepal_lth  \\\n",
       "0           5.1          3.5           1.4          0.2  setosa  sep_lth_bxo   \n",
       "\n",
       "       sepal_wh    petal_lth     petal_wh  \n",
       "0  sep_wtd_alto  pet_lth_bxo  pet_wth_bxo  "
      ]
     },
     "execution_count": 8,
     "metadata": {},
     "output_type": "execute_result"
    }
   ],
   "source": [
    "df.head(1)"
   ]
  },
  {
   "cell_type": "code",
   "execution_count": 9,
   "metadata": {},
   "outputs": [],
   "source": [
    "df = df[[\"species\", \"sepal_lth\", \"sepal_wh\", \"petal_lth\", \"petal_wh\"]]"
   ]
  },
  {
   "cell_type": "code",
   "execution_count": 10,
   "metadata": {},
   "outputs": [
    {
     "data": {
      "text/html": [
       "<div>\n",
       "<style scoped>\n",
       "    .dataframe tbody tr th:only-of-type {\n",
       "        vertical-align: middle;\n",
       "    }\n",
       "\n",
       "    .dataframe tbody tr th {\n",
       "        vertical-align: top;\n",
       "    }\n",
       "\n",
       "    .dataframe thead th {\n",
       "        text-align: right;\n",
       "    }\n",
       "</style>\n",
       "<table border=\"1\" class=\"dataframe\">\n",
       "  <thead>\n",
       "    <tr style=\"text-align: right;\">\n",
       "      <th></th>\n",
       "      <th>species</th>\n",
       "      <th>sepal_lth</th>\n",
       "      <th>sepal_wh</th>\n",
       "      <th>petal_lth</th>\n",
       "      <th>petal_wh</th>\n",
       "      <th>classe_sepal_length</th>\n",
       "      <th>classe_sepal_width</th>\n",
       "      <th>classe_petal_length</th>\n",
       "      <th>classe_petal_width</th>\n",
       "    </tr>\n",
       "  </thead>\n",
       "  <tbody>\n",
       "    <tr>\n",
       "      <th>0</th>\n",
       "      <td>setosa</td>\n",
       "      <td>sep_lth_bxo</td>\n",
       "      <td>sep_wtd_alto</td>\n",
       "      <td>pet_lth_bxo</td>\n",
       "      <td>pet_wth_bxo</td>\n",
       "      <td>setosa sep_lth_bxo</td>\n",
       "      <td>setosa sep_wtd_alto</td>\n",
       "      <td>setosa pet_lth_bxo</td>\n",
       "      <td>setosa pet_wth_bxo</td>\n",
       "    </tr>\n",
       "  </tbody>\n",
       "</table>\n",
       "</div>"
      ],
      "text/plain": [
       "  species    sepal_lth      sepal_wh    petal_lth     petal_wh  \\\n",
       "0  setosa  sep_lth_bxo  sep_wtd_alto  pet_lth_bxo  pet_wth_bxo   \n",
       "\n",
       "  classe_sepal_length   classe_sepal_width classe_petal_length  \\\n",
       "0  setosa sep_lth_bxo  setosa sep_wtd_alto  setosa pet_lth_bxo   \n",
       "\n",
       "   classe_petal_width  \n",
       "0  setosa pet_wth_bxo  "
      ]
     },
     "execution_count": 10,
     "metadata": {},
     "output_type": "execute_result"
    }
   ],
   "source": [
    "df[\"classe_sepal_length\"] = df[\"species\"].astype(str) + \" \" + df[\"sepal_lth\"].astype(str)\n",
    "df[\"classe_sepal_width\"] = df[\"species\"].astype(str) + \" \" + df[\"sepal_wh\"].astype(str)\n",
    "df[\"classe_petal_length\"] = df[\"species\"].astype(str) + \" \" + df[\"petal_lth\"].astype(str)\n",
    "df[\"classe_petal_width\"] = df[\"species\"].astype(str) + \" \" + df[\"petal_wh\"].astype(str)\n",
    "df.head(1)"
   ]
  },
  {
   "cell_type": "markdown",
   "metadata": {},
   "source": [
    "**Novo dataframe Iris**"
   ]
  },
  {
   "cell_type": "code",
   "execution_count": 11,
   "metadata": {},
   "outputs": [
    {
     "data": {
      "text/html": [
       "<div>\n",
       "<style scoped>\n",
       "    .dataframe tbody tr th:only-of-type {\n",
       "        vertical-align: middle;\n",
       "    }\n",
       "\n",
       "    .dataframe tbody tr th {\n",
       "        vertical-align: top;\n",
       "    }\n",
       "\n",
       "    .dataframe thead th {\n",
       "        text-align: right;\n",
       "    }\n",
       "</style>\n",
       "<table border=\"1\" class=\"dataframe\">\n",
       "  <thead>\n",
       "    <tr style=\"text-align: right;\">\n",
       "      <th></th>\n",
       "      <th>classe_sepal_length</th>\n",
       "      <th>classe_sepal_width</th>\n",
       "      <th>classe_petal_length</th>\n",
       "      <th>classe_petal_width</th>\n",
       "    </tr>\n",
       "  </thead>\n",
       "  <tbody>\n",
       "    <tr>\n",
       "      <th>0</th>\n",
       "      <td>setosa sep_lth_bxo</td>\n",
       "      <td>setosa sep_wtd_alto</td>\n",
       "      <td>setosa pet_lth_bxo</td>\n",
       "      <td>setosa pet_wth_bxo</td>\n",
       "    </tr>\n",
       "  </tbody>\n",
       "</table>\n",
       "</div>"
      ],
      "text/plain": [
       "  classe_sepal_length   classe_sepal_width classe_petal_length  \\\n",
       "0  setosa sep_lth_bxo  setosa sep_wtd_alto  setosa pet_lth_bxo   \n",
       "\n",
       "   classe_petal_width  \n",
       "0  setosa pet_wth_bxo  "
      ]
     },
     "execution_count": 11,
     "metadata": {},
     "output_type": "execute_result"
    }
   ],
   "source": [
    "df = df[[\"classe_sepal_length\", \"classe_sepal_width\", \"classe_petal_length\", \"classe_petal_width\"]]\n",
    "df.head(1)"
   ]
  },
  {
   "cell_type": "code",
   "execution_count": 12,
   "metadata": {},
   "outputs": [
    {
     "data": {
      "text/html": [
       "<div>\n",
       "<style scoped>\n",
       "    .dataframe tbody tr th:only-of-type {\n",
       "        vertical-align: middle;\n",
       "    }\n",
       "\n",
       "    .dataframe tbody tr th {\n",
       "        vertical-align: top;\n",
       "    }\n",
       "\n",
       "    .dataframe thead th {\n",
       "        text-align: right;\n",
       "    }\n",
       "</style>\n",
       "<table border=\"1\" class=\"dataframe\">\n",
       "  <thead>\n",
       "    <tr style=\"text-align: right;\">\n",
       "      <th></th>\n",
       "      <th>classe_sepal_length</th>\n",
       "      <th>classe_sepal_width</th>\n",
       "      <th>classe_petal_length</th>\n",
       "      <th>classe_petal_width</th>\n",
       "    </tr>\n",
       "  </thead>\n",
       "  <tbody>\n",
       "    <tr>\n",
       "      <th>149</th>\n",
       "      <td>virginica sep_lth_md</td>\n",
       "      <td>virginica sep_wth_bxo</td>\n",
       "      <td>virginica pet_lth_md</td>\n",
       "      <td>virginica pet_wth_md</td>\n",
       "    </tr>\n",
       "  </tbody>\n",
       "</table>\n",
       "</div>"
      ],
      "text/plain": [
       "      classe_sepal_length     classe_sepal_width   classe_petal_length  \\\n",
       "149  virginica sep_lth_md  virginica sep_wth_bxo  virginica pet_lth_md   \n",
       "\n",
       "       classe_petal_width  \n",
       "149  virginica pet_wth_md  "
      ]
     },
     "execution_count": 12,
     "metadata": {},
     "output_type": "execute_result"
    }
   ],
   "source": [
    "df.tail(1)"
   ]
  },
  {
   "cell_type": "code",
   "execution_count": 13,
   "metadata": {},
   "outputs": [],
   "source": [
    "df.to_csv('iris_association.csv', header=False, index=False)"
   ]
  },
  {
   "cell_type": "markdown",
   "metadata": {},
   "source": [
    "**Conversão dos dados para lista e função Apriori**"
   ]
  },
  {
   "cell_type": "code",
   "execution_count": 14,
   "metadata": {},
   "outputs": [
    {
     "data": {
      "text/plain": [
       "[['setosa sep_lth_bxo',\n",
       "  'setosa sep_wtd_alto',\n",
       "  'setosa pet_lth_bxo',\n",
       "  'setosa pet_wth_bxo'],\n",
       " ['setosa sep_lth_bxo',\n",
       "  'setosa sep_wth_bxo',\n",
       "  'setosa pet_lth_bxo',\n",
       "  'setosa pet_wth_bxo'],\n",
       " ['setosa sep_lth_bxo',\n",
       "  'setosa sep_wth_md',\n",
       "  'setosa pet_lth_bxo',\n",
       "  'setosa pet_wth_bxo']]"
      ]
     },
     "execution_count": 14,
     "metadata": {},
     "output_type": "execute_result"
    }
   ],
   "source": [
    "transactions2 = []\n",
    "\n",
    "with open('iris_association.csv') as df2:\n",
    "    for line in df2:\n",
    "        transaction2 = [item for item in line.strip().split(',') if item != 'NaN']\n",
    "        transactions2.append(transaction2)\n",
    "    \n",
    "transactions2[:3]"
   ]
  },
  {
   "cell_type": "code",
   "execution_count": 15,
   "metadata": {},
   "outputs": [],
   "source": [
    "# Com os dados tratados, o requisito mínimo de Suporte foi estabelecido em 17% e o de Confiança em 70%\n",
    "\n",
    "rules2 = list(apriori(\n",
    "    transactions2, \n",
    "    min_support=0.17, \n",
    "    min_confidence=0.70,\n",
    "    min_length=2))\n",
    "\n",
    "rules_df2 = pd.DataFrame(\n",
    "    [{'De': list(rule[0])[0],\n",
    "      'Para': list(rule[0])[1],\n",
    "      'Support': rule[1],\n",
    "      'Confidence': rule[2][0][2],\n",
    "      'Lift': rule[2][0][3]} for rule in rules2 if len(rule[0]) == 2])\n",
    "rules_df2 = rules_df2.dropna()"
   ]
  },
  {
   "cell_type": "markdown",
   "metadata": {},
   "source": [
    "### Resultado dos itens com associações mais frequentes:"
   ]
  },
  {
   "cell_type": "code",
   "execution_count": 16,
   "metadata": {},
   "outputs": [
    {
     "data": {
      "text/html": [
       "<div>\n",
       "<style scoped>\n",
       "    .dataframe tbody tr th:only-of-type {\n",
       "        vertical-align: middle;\n",
       "    }\n",
       "\n",
       "    .dataframe tbody tr th {\n",
       "        vertical-align: top;\n",
       "    }\n",
       "\n",
       "    .dataframe thead th {\n",
       "        text-align: right;\n",
       "    }\n",
       "</style>\n",
       "<table border=\"1\" class=\"dataframe\">\n",
       "  <thead>\n",
       "    <tr style=\"text-align: right;\">\n",
       "      <th></th>\n",
       "      <th>De</th>\n",
       "      <th>Para</th>\n",
       "      <th>Support</th>\n",
       "      <th>Confidence</th>\n",
       "      <th>Lift</th>\n",
       "    </tr>\n",
       "  </thead>\n",
       "  <tbody>\n",
       "    <tr>\n",
       "      <th>1</th>\n",
       "      <td>setosa sep_lth_bxo</td>\n",
       "      <td>setosa pet_lth_bxo</td>\n",
       "      <td>0.320000</td>\n",
       "      <td>0.979592</td>\n",
       "      <td>2.998751</td>\n",
       "    </tr>\n",
       "    <tr>\n",
       "      <th>3</th>\n",
       "      <td>setosa sep_lth_bxo</td>\n",
       "      <td>setosa pet_wth_bxo</td>\n",
       "      <td>0.293333</td>\n",
       "      <td>1.000000</td>\n",
       "      <td>3.061224</td>\n",
       "    </tr>\n",
       "    <tr>\n",
       "      <th>0</th>\n",
       "      <td>setosa pet_wth_bxo</td>\n",
       "      <td>setosa pet_lth_bxo</td>\n",
       "      <td>0.286667</td>\n",
       "      <td>0.877551</td>\n",
       "      <td>2.991651</td>\n",
       "    </tr>\n",
       "    <tr>\n",
       "      <th>5</th>\n",
       "      <td>setosa sep_lth_bxo</td>\n",
       "      <td>setosa sep_wtd_alto</td>\n",
       "      <td>0.200000</td>\n",
       "      <td>1.000000</td>\n",
       "      <td>3.061224</td>\n",
       "    </tr>\n",
       "    <tr>\n",
       "      <th>2</th>\n",
       "      <td>setosa sep_wtd_alto</td>\n",
       "      <td>setosa pet_lth_bxo</td>\n",
       "      <td>0.193333</td>\n",
       "      <td>0.966667</td>\n",
       "      <td>2.959184</td>\n",
       "    </tr>\n",
       "    <tr>\n",
       "      <th>4</th>\n",
       "      <td>setosa pet_wth_bxo</td>\n",
       "      <td>setosa sep_wtd_alto</td>\n",
       "      <td>0.193333</td>\n",
       "      <td>0.966667</td>\n",
       "      <td>3.295455</td>\n",
       "    </tr>\n",
       "    <tr>\n",
       "      <th>6</th>\n",
       "      <td>versicolor pet_wth_bxo</td>\n",
       "      <td>versicolor sep_wth_bxo</td>\n",
       "      <td>0.180000</td>\n",
       "      <td>0.964286</td>\n",
       "      <td>3.527875</td>\n",
       "    </tr>\n",
       "    <tr>\n",
       "      <th>7</th>\n",
       "      <td>virginica pet_wth_alto</td>\n",
       "      <td>virginica pet_lth_alto</td>\n",
       "      <td>0.173333</td>\n",
       "      <td>0.764706</td>\n",
       "      <td>3.373702</td>\n",
       "    </tr>\n",
       "  </tbody>\n",
       "</table>\n",
       "</div>"
      ],
      "text/plain": [
       "                       De                    Para   Support  Confidence  \\\n",
       "1      setosa sep_lth_bxo      setosa pet_lth_bxo  0.320000    0.979592   \n",
       "3      setosa sep_lth_bxo      setosa pet_wth_bxo  0.293333    1.000000   \n",
       "0      setosa pet_wth_bxo      setosa pet_lth_bxo  0.286667    0.877551   \n",
       "5      setosa sep_lth_bxo     setosa sep_wtd_alto  0.200000    1.000000   \n",
       "2     setosa sep_wtd_alto      setosa pet_lth_bxo  0.193333    0.966667   \n",
       "4      setosa pet_wth_bxo     setosa sep_wtd_alto  0.193333    0.966667   \n",
       "6  versicolor pet_wth_bxo  versicolor sep_wth_bxo  0.180000    0.964286   \n",
       "7  virginica pet_wth_alto  virginica pet_lth_alto  0.173333    0.764706   \n",
       "\n",
       "       Lift  \n",
       "1  2.998751  \n",
       "3  3.061224  \n",
       "0  2.991651  \n",
       "5  3.061224  \n",
       "2  2.959184  \n",
       "4  3.295455  \n",
       "6  3.527875  \n",
       "7  3.373702  "
      ]
     },
     "execution_count": 16,
     "metadata": {},
     "output_type": "execute_result"
    }
   ],
   "source": [
    "rules_df2 = rules_df2.sort_values('Support', ascending=False)\n",
    "rules_df2.head(10)"
   ]
  },
  {
   "cell_type": "markdown",
   "metadata": {},
   "source": [
    "#### Comentários:\n",
    "- Testando os dados da base com medidas de suporte >= 0.20 e confiança >= 0.70, somente a espécie **setosa** apresentou associações relevantes, sendo a mais frequente a que combina **setosa petal length baixo** com **setosa sepal length baixo**, com 0.32 de suporte e 0.98 de confiança. \n",
    "- As espécies **versicolor** e **virginica** só começaram a aparecer na lista de itens frequentes quando a medida de suporte foi reduzida para 0.17, mantendo a de confiança em 0.70."
   ]
  }
 ],
 "metadata": {
  "kernelspec": {
   "display_name": "Python 3 (ipykernel)",
   "language": "python",
   "name": "python3"
  },
  "language_info": {
   "codemirror_mode": {
    "name": "ipython",
    "version": 3
   },
   "file_extension": ".py",
   "mimetype": "text/x-python",
   "name": "python",
   "nbconvert_exporter": "python",
   "pygments_lexer": "ipython3",
   "version": "3.9.13"
  }
 },
 "nbformat": 4,
 "nbformat_minor": 4
}
